{
 "cells": [
  {
   "attachments": {},
   "cell_type": "markdown",
   "metadata": {},
   "source": [
    "# SymPy for begyndere"
   ]
  },
  {
   "attachments": {},
   "cell_type": "markdown",
   "metadata": {},
   "source": [
    "SymPy er et gratis, open-source Python-bibliotek, der mulliggør at man kan regne matematik symbolsk. Det betyder, at SymPy kan evaluere og simplificere matematiske udtryk eksakt, løse ligninger, tegne funktioner, differentiere, integerere og meget mere! SymPy er derfor et gratis alternativ til CAS-systemer som fx Maple, Ti-Nspire eller Mathematica.\n",
    "\n",
    "**Forudsætninger i Python-programmering**\n",
    "\n",
    "Da SymPy lever og ånder i Python-økosystemet, kræver denne introduktion, at du kender til det mest basale inden for Python-programmering. Specifikt skal du have lært om variable, funktioner og datatyper (tal, tekst, lister og dictionaries). Det er også en fordel at have arbejdet lidt med NumPy-biblioteket. Du kan fx lære det nødvendige i [StudyNows kursus i Python for begyndere](https://ida.studynow.dk/courses/python-for-begyndere)."
   ]
  },
  {
   "attachments": {},
   "cell_type": "markdown",
   "metadata": {},
   "source": [
    "## 1. Kom i gang"
   ]
  },
  {
   "attachments": {},
   "cell_type": "markdown",
   "metadata": {},
   "source": [
    "**Installering**\n",
    "\n",
    "For at kunne bruge SymPy (og for at køre dette dokument) kræver det, at du har Python installeret og har installeret SymPy.\n",
    "\n",
    "Begge dele burde være installeret korrekt, hvis bare du bruger [Anaconda-distributionen](https://www.anaconda.com/download/).\n",
    "\n",
    "Læs evt. mere om installation af SymPy [her](https://docs.sympy.org/latest/install.html#installation)."
   ]
  },
  {
   "cell_type": "markdown",
   "metadata": {},
   "source": [
    "### Det interaktive \"IPython Notebook\" format"
   ]
  },
  {
   "cell_type": "markdown",
   "metadata": {},
   "source": [
    "Der er mange forskellige redigeringsværktøjer (IDE'er) til at skrive Python-kode: Bl.a. Google Colab, Jupyter Notebook, Spyder og Visual Studio Code. Jeg foretrækker selv Visual Studio, men som begynder vil jeg anbefale dig enten at bruge Colab (kræver ikke installering, men åbnes via Google Drive) eller Jupyter (køres \"lokalt\" på din computer, efter du har installeret [Anaconda-distributionen](https://www.anaconda.com/) af Python). Både Colab og Jupyter kan åbne denne fil i et interaktivt \"notebook\"-format. Det betyder fx, at man kan skrive tekst som dette og vise grafer og resultatet af sine beregninger direkte i dokumentet."
   ]
  },
  {
   "cell_type": "markdown",
   "metadata": {},
   "source": [
    "#### Genveje i Google Colab Notebook"
   ]
  },
  {
   "cell_type": "markdown",
   "metadata": {},
   "source": [
    "| Kommando                            | Genvej      |\n",
    "|:-----------------------------------:|:-------------:|\n",
    "| Kør celle                           | shift + enter |\n",
    "| Kør celle og indsæt ny under        | alt (option) + enter   |\n",
    "| Ændr celle til tekst                | ctr + M, M       |\n",
    "| Ændr celle til kode                 | ctr + M, Y       |\n",
    "| Fjern celle                         | ctr + D, D   |"
   ]
  },
  {
   "cell_type": "markdown",
   "metadata": {},
   "source": [
    "#### Indtasting af specielle tegn"
   ]
  },
  {
   "cell_type": "markdown",
   "metadata": {},
   "source": [
    "| Tegn | Mac dansk tastatur                        | Windows dansk tastatur               | US tastatur                    |\n",
    "|:----------:|:-----------------------------------:|:------------------------------:|:------------------------------:|\n",
    "| { }        | alt + shift + 8 og alt + shift + 9  | AltGR + 7 og Altgr + 0         | Shift + \\[ \\] (right to P key) |\n",
    "| \\[ \\]      | alt + 8 og alt + 9                  | AltGR + 8 og Altgr + 9         | \\[ \\] (right to P key)         |\n",
    "| \\          | alt + shift + 7                     | ctrl + alt + < eller AltGr + 9 | \\ (left to enter)              |\n",
    "| _          | shift + -                           | shift + -                      | shift + -                      |"
   ]
  },
  {
   "attachments": {},
   "cell_type": "markdown",
   "metadata": {},
   "source": [
    "#### Importering af SymPy og andre biblioteker"
   ]
  },
  {
   "attachments": {},
   "cell_type": "markdown",
   "metadata": {},
   "source": [
    "Nedenfor importerer jeg de biblioteker, som vi får brug for i dette dokument."
   ]
  },
  {
   "cell_type": "code",
   "execution_count": 1,
   "metadata": {},
   "outputs": [],
   "source": [
    "import sympy as sp\n",
    "import numpy as np\n",
    "from IPython.display import display"
   ]
  },
  {
   "cell_type": "markdown",
   "metadata": {},
   "source": [
    "Nu kan vi fremadrettet referere til SymPy bilbioteket som `sp` og til NumPy biblioteket som `np`. "
   ]
  },
  {
   "cell_type": "markdown",
   "metadata": {},
   "source": [
    "**Slet alle variable**"
   ]
  },
  {
   "cell_type": "markdown",
   "metadata": {},
   "source": [
    "Man kan slette alle variable og importerede pakker i ens Notebook-session med kommandoen:"
   ]
  },
  {
   "cell_type": "code",
   "execution_count": 167,
   "metadata": {},
   "outputs": [],
   "source": [
    "%reset -f"
   ]
  },
  {
   "cell_type": "markdown",
   "metadata": {},
   "source": [
    "Importér de pakker, vi skal bruge igen bagefter:"
   ]
  },
  {
   "cell_type": "code",
   "execution_count": 3,
   "metadata": {},
   "outputs": [],
   "source": [
    "import sympy as sp\n",
    "import numpy as np\n",
    "from IPython.display import display"
   ]
  },
  {
   "cell_type": "markdown",
   "metadata": {},
   "source": [
    "#### Genveje i Jupyter Notebook (se kun hvis relevant)"
   ]
  },
  {
   "cell_type": "markdown",
   "metadata": {},
   "source": [
    "| Kommando                            | Genvej      |\n",
    "|:-----------------------------------:|:-------------:|\n",
    "| Kør celle                           | shift + enter |\n",
    "| Kør celle og indsæt ny under        | alt (option) + enter   |\n",
    "| Ændr celle til tekst                | esc + M       |\n",
    "| Ændr celle til kode                 | esc + Y       |\n",
    "| Fjern celle                         | esc + 2 x D   |"
   ]
  },
  {
   "attachments": {},
   "cell_type": "markdown",
   "metadata": {},
   "source": [
    "## 2. Basale Regnestykker"
   ]
  },
  {
   "attachments": {},
   "cell_type": "markdown",
   "metadata": {},
   "source": [
    "### Numerisk vs. symbolsk matematik"
   ]
  },
  {
   "cell_type": "markdown",
   "metadata": {},
   "source": [
    "For at forstå, hvad SymPy kan, er det vigtigt at forstå forskellen på symbolsk og numerisk matematik. Numeriske beregninger kan du udføre med Python og NumPy-biblioteket, mens symbolsk matematik klares med Python og SymPy-biblioteket.\n",
    "\n",
    "Antag, at vi gerne vil bestemme værdien af\n",
    "$\n",
    "(\\sqrt{8})^2\n",
    "$. Dette kan vi gøre numerisk vha. NumPy:"
   ]
  },
  {
   "cell_type": "code",
   "execution_count": 2,
   "metadata": {},
   "outputs": [
    {
     "data": {
      "text/plain": [
       "8.000000000000002"
      ]
     },
     "execution_count": 2,
     "metadata": {},
     "output_type": "execute_result"
    }
   ],
   "source": [
    "np.sqrt(8)**2"
   ]
  },
  {
   "cell_type": "markdown",
   "metadata": {},
   "source": [
    "**Bemærk:**\n",
    "1. I Python opløfter man et tal i en potens med en dobbelt-asterisk `**` i stedet for `^`-tegnet (`^`-tegnet betyder i Python logisk ekskluderende eller)\n",
    "2. kvadratroden beregnes numerisk med NumPy's `sqrt`-funktion\n",
    "\n",
    "Det numeriske resultat af $\\sqrt{8}^2 = 8$ introducerer et ukorrekt 2-tal, som det 15. decimal. Det skyldes, at vi regner med et endeligt antal decimaler og derfor har en begrænset præcision. I langt de fleste tilfælde er præcisionen i numeriske beregninger som ovenfor selvfølgelig rigeligt, men det illustrerer alligevel at numerisk matematik kun er en tilnærmelse til det eksakte resultat.\n",
    "\n",
    "Vi kunne i stedet bestemme det eksakte resultat som en symbolsk beregning:"
   ]
  },
  {
   "cell_type": "code",
   "execution_count": 3,
   "metadata": {},
   "outputs": [
    {
     "data": {
      "text/latex": [
       "$\\displaystyle 8$"
      ],
      "text/plain": [
       "8"
      ]
     },
     "execution_count": 3,
     "metadata": {},
     "output_type": "execute_result"
    }
   ],
   "source": [
    "sp.sqrt(8)**2"
   ]
  },
  {
   "cell_type": "markdown",
   "metadata": {},
   "source": [
    "Når vi regner symbolsk, får vi det eksakte heltal $8$ som resultat i stedet for decimaltals-tilnærmelsen."
   ]
  },
  {
   "cell_type": "markdown",
   "metadata": {},
   "source": [
    "### Basale regnestykker"
   ]
  },
  {
   "cell_type": "markdown",
   "metadata": {},
   "source": [
    "Der er nogle elementære funktioner som er gode at kende i SymPy"
   ]
  },
  {
   "cell_type": "markdown",
   "metadata": {},
   "source": [
    "**Integer**\n",
    "\n",
    "Bruges til at angive at et tal er et heltal. Fx kan vi bestemme division af to heltal"
   ]
  },
  {
   "cell_type": "code",
   "execution_count": 4,
   "metadata": {},
   "outputs": [
    {
     "data": {
      "text/latex": [
       "$\\displaystyle \\frac{1}{3}$"
      ],
      "text/plain": [
       "1/3"
      ]
     },
     "execution_count": 4,
     "metadata": {},
     "output_type": "execute_result"
    }
   ],
   "source": [
    "sp.Integer(2)/sp.Integer(6)"
   ]
  },
  {
   "cell_type": "markdown",
   "metadata": {},
   "source": [
    "Bemærk, at det eksakte tal $\\frac{1}{3}$ principielt er forskelligt fra den numeriske decimaltilnærmelse $0.3333333333333333$. Med Python uden SymPy får vi bare det numeriske resultat:"
   ]
  },
  {
   "cell_type": "code",
   "execution_count": 5,
   "metadata": {},
   "outputs": [
    {
     "data": {
      "text/plain": [
       "0.3333333333333333"
      ]
     },
     "execution_count": 5,
     "metadata": {},
     "output_type": "execute_result"
    }
   ],
   "source": [
    "2/6"
   ]
  },
  {
   "cell_type": "markdown",
   "metadata": {},
   "source": [
    "**Rational**\n",
    "\n",
    "En brøk mellem to heltal kan også repræsenteres med funktionen `Rational`:"
   ]
  },
  {
   "cell_type": "code",
   "execution_count": 6,
   "metadata": {},
   "outputs": [
    {
     "data": {
      "text/latex": [
       "$\\displaystyle \\frac{1}{3}$"
      ],
      "text/plain": [
       "1/3"
      ]
     },
     "execution_count": 6,
     "metadata": {},
     "output_type": "execute_result"
    }
   ],
   "source": [
    "sp.Rational(2, 6)"
   ]
  },
  {
   "cell_type": "markdown",
   "metadata": {},
   "source": [
    "**Matematiske konstanter**"
   ]
  },
  {
   "cell_type": "markdown",
   "metadata": {},
   "source": [
    "Matematiske konstanter som fx $\\pi, e, i=\\sqrt{–1}$ kan findes i sympy:"
   ]
  },
  {
   "cell_type": "code",
   "execution_count": 6,
   "metadata": {},
   "outputs": [
    {
     "data": {
      "text/latex": [
       "$\\displaystyle \\pi$"
      ],
      "text/plain": [
       "pi"
      ]
     },
     "execution_count": 6,
     "metadata": {},
     "output_type": "execute_result"
    }
   ],
   "source": [
    "sp.pi"
   ]
  },
  {
   "cell_type": "code",
   "execution_count": 7,
   "metadata": {},
   "outputs": [
    {
     "data": {
      "text/latex": [
       "$\\displaystyle e$"
      ],
      "text/plain": [
       "E"
      ]
     },
     "execution_count": 7,
     "metadata": {},
     "output_type": "execute_result"
    }
   ],
   "source": [
    "sp.E"
   ]
  },
  {
   "cell_type": "code",
   "execution_count": 8,
   "metadata": {},
   "outputs": [
    {
     "data": {
      "text/latex": [
       "$\\displaystyle i$"
      ],
      "text/plain": [
       "I"
      ]
     },
     "execution_count": 8,
     "metadata": {},
     "output_type": "execute_result"
    }
   ],
   "source": [
    "sp.I"
   ]
  },
  {
   "cell_type": "markdown",
   "metadata": {},
   "source": [
    "**Elementære matematiske funktioner**\n",
    "\n",
    "Elementære matematiske funktioner som fx $\\sqrt{x}, \\sin(x), \\cos(x), \\exp(x), \\log(x)$ og $\\log_{10}(x)$ har alle en sympy variant:\n",
    "\n",
    "Fx. kan vi udregne:\n",
    "$\\sqrt{4} = 2, \\quad\n",
    "\\sin(\\pi) = 0, \\quad\n",
    "\\cos(\\pi) = -1, \\quad\n",
    "\\exp(2)=e^2, \\quad \n",
    "\\ln(e) = 1, \\quad \n",
    "\\log_{10}(1000) = 3$"
   ]
  },
  {
   "cell_type": "code",
   "execution_count": 9,
   "metadata": {},
   "outputs": [
    {
     "data": {
      "text/plain": [
       "(2, 0, -1, exp(2), 1, 3)"
      ]
     },
     "execution_count": 9,
     "metadata": {},
     "output_type": "execute_result"
    }
   ],
   "source": [
    "sp.sqrt(4), sp.sin(sp.pi), sp.cos(sp.pi), sp.exp(2), sp.log(sp.E), sp.log(1000, 10)"
   ]
  },
  {
   "cell_type": "markdown",
   "metadata": {},
   "source": [
    "**sympify**\n",
    "\n",
    "Med sympify funktionen kan du evaluere generelle udtryk skrevet i tekst. Fx:\n",
    "$$\n",
    "\\sqrt{(1+2)(3+5)+1} = 5\n",
    "$$"
   ]
  },
  {
   "cell_type": "code",
   "execution_count": 10,
   "metadata": {},
   "outputs": [
    {
     "data": {
      "text/latex": [
       "$\\displaystyle 5$"
      ],
      "text/plain": [
       "5"
      ]
     },
     "execution_count": 10,
     "metadata": {},
     "output_type": "execute_result"
    }
   ],
   "source": [
    "sp.sympify('sqrt((1+2)*(3+5) + 1)')"
   ]
  },
  {
   "cell_type": "markdown",
   "metadata": {},
   "source": [
    "**Bemærk:**\n",
    "1. Med `sympify`-funktionen slipper vi for at skrive \"`sp.`\" foran sympy-funktionerne. \n",
    "2. `sympify` bruger en Python-funktion, der hedder `eval`. Det betyder, at man kan afvikle hvilken som helst kode, der proppes ind i teksstrengen til `sympify`. Det kan være et sikkerhedsproblem. Så længe, du kun bruger `sympify` i dine egne dokumenter, hvor du har fuld kontrol over, hvad du propper ind i funktionen, er der ikke noget problem dog."
   ]
  },
  {
   "cell_type": "markdown",
   "metadata": {},
   "source": [
    "Du kan også beregne flere udtryk i samme `sympify`-kald. Fx, hvis vi vil bestemme:\n",
    "$$\n",
    "\\sqrt{\\frac{36}{2}} = 3 \\sqrt{2}, \\quad \\sin^{-1}(\\sqrt{2}/2) = \\frac{\\pi}{4}, \\quad e^{i \\pi} = -1\n",
    "$$"
   ]
  },
  {
   "cell_type": "code",
   "execution_count": 11,
   "metadata": {},
   "outputs": [
    {
     "data": {
      "text/plain": [
       "(3*sqrt(2), pi/4, -1)"
      ]
     },
     "execution_count": 11,
     "metadata": {},
     "output_type": "execute_result"
    }
   ],
   "source": [
    "sp.sympify('sqrt(36/2), asin(sqrt(2)/2), exp(I*pi)')"
   ]
  },
  {
   "cell_type": "markdown",
   "metadata": {},
   "source": [
    "**IPython's display-funktion**\n",
    "\n",
    "Du kan bruge `display`-funktionen fra IPython-biblioteket til at vise resultaterne pænere (med $\\LaTeX$):"
   ]
  },
  {
   "cell_type": "code",
   "execution_count": 12,
   "metadata": {},
   "outputs": [
    {
     "data": {
      "text/latex": [
       "$\\displaystyle 3 \\sqrt{2}$"
      ],
      "text/plain": [
       "3*sqrt(2)"
      ]
     },
     "metadata": {},
     "output_type": "display_data"
    },
    {
     "data": {
      "text/latex": [
       "$\\displaystyle \\frac{\\pi}{4}$"
      ],
      "text/plain": [
       "pi/4"
      ]
     },
     "metadata": {},
     "output_type": "display_data"
    },
    {
     "data": {
      "text/latex": [
       "$\\displaystyle -1$"
      ],
      "text/plain": [
       "-1"
      ]
     },
     "metadata": {},
     "output_type": "display_data"
    }
   ],
   "source": [
    "from IPython.display import display\n",
    "display(*sp.sympify('sqrt(36/2), asin(sqrt(2)/2), exp(I*pi)'))"
   ]
  },
  {
   "cell_type": "markdown",
   "metadata": {},
   "source": [
    "Bemærk, at jeg skriver et asterisk-tegn `*` for at udpakke listen af resultater fra `sympify`."
   ]
  },
  {
   "cell_type": "markdown",
   "metadata": {},
   "source": [
    "**Eksplicit gangetegn mellem paranteser**\n",
    "\n",
    "Der skal være eksplicit gangetegn mellem paranteser for at `sympify` forstår det. Ellers får vi en fejl:"
   ]
  },
  {
   "cell_type": "code",
   "execution_count": null,
   "metadata": {},
   "outputs": [],
   "source": [
    "# Denne linje fejler, hvis du forsøger at køre den.\n",
    "sp.sympify('(3+4)(2+3)')"
   ]
  },
  {
   "cell_type": "markdown",
   "metadata": {},
   "source": [
    "**Bestem numerisk værdi af symbolsk variabel**\n",
    "\n",
    "`evalf`-funktionen muliggør, at man kan evaluere decimaltalsværdien af en symbolsk variabel. Fx er:\n",
    "$$\n",
    "\\sqrt{2} \\approx 1.41421356237310\n",
    "$$"
   ]
  },
  {
   "cell_type": "code",
   "execution_count": null,
   "metadata": {},
   "outputs": [
    {
     "data": {
      "text/latex": [
       "$\\displaystyle 1.4142135623731$"
      ],
      "text/plain": [
       "1.41421356237310"
      ]
     },
     "execution_count": 77,
     "metadata": {},
     "output_type": "execute_result"
    }
   ],
   "source": [
    "sp.sqrt(2).evalf()"
   ]
  },
  {
   "cell_type": "markdown",
   "metadata": {},
   "source": [
    "## 3. Udtryk med symbolske variable"
   ]
  },
  {
   "cell_type": "markdown",
   "metadata": {},
   "source": [
    "### Symbolske variable og Python-variable"
   ]
  },
  {
   "cell_type": "markdown",
   "metadata": {},
   "source": [
    "I Python kan vi ikke opskrive udtrykket $x+y$ uden først at fastsætte en værdi af $x$ og $y$."
   ]
  },
  {
   "cell_type": "code",
   "execution_count": 14,
   "metadata": {},
   "outputs": [
    {
     "ename": "NameError",
     "evalue": "name 'x' is not defined",
     "output_type": "error",
     "traceback": [
      "\u001b[0;31m---------------------------------------------------------------------------\u001b[0m",
      "\u001b[0;31mNameError\u001b[0m                                 Traceback (most recent call last)",
      "\u001b[1;32m/Users/rune.hoejlund/Development/StudyNow/SymPy Preperation/Introduction to SymPy.ipynb Cell 43\u001b[0m in \u001b[0;36m<cell line: 1>\u001b[0;34m()\u001b[0m\n\u001b[0;32m----> <a href='vscode-notebook-cell:/Users/rune.hoejlund/Development/StudyNow/SymPy%20Preperation/Introduction%20to%20SymPy.ipynb#Y335sZmlsZQ%3D%3D?line=0'>1</a>\u001b[0m x \u001b[39m+\u001b[39m y\n",
      "\u001b[0;31mNameError\u001b[0m: name 'x' is not defined"
     ]
    }
   ],
   "source": [
    "x + y"
   ]
  },
  {
   "cell_type": "markdown",
   "metadata": {},
   "source": [
    "Med SymPy, kan vi definere python-variablene `x` og `y` som de symbolske variable $x$ og $y$:"
   ]
  },
  {
   "cell_type": "code",
   "execution_count": 4,
   "metadata": {},
   "outputs": [
    {
     "data": {
      "text/latex": [
       "$\\displaystyle x + y$"
      ],
      "text/plain": [
       "x + y"
      ]
     },
     "execution_count": 4,
     "metadata": {},
     "output_type": "execute_result"
    }
   ],
   "source": [
    "x, y = sp.symbols('x y')\n",
    "x + y"
   ]
  },
  {
   "cell_type": "markdown",
   "metadata": {},
   "source": [
    "### Simplificering af udtryk"
   ]
  },
  {
   "cell_type": "markdown",
   "metadata": {},
   "source": [
    "SymPy simplificerer automatisk nemme symbolske udtryk, fx er $x+y-x = y$:"
   ]
  },
  {
   "cell_type": "code",
   "execution_count": 5,
   "metadata": {},
   "outputs": [
    {
     "data": {
      "text/latex": [
       "$\\displaystyle y$"
      ],
      "text/plain": [
       "y"
      ]
     },
     "execution_count": 5,
     "metadata": {},
     "output_type": "execute_result"
    }
   ],
   "source": [
    "x+y-x"
   ]
  },
  {
   "cell_type": "markdown",
   "metadata": {},
   "source": [
    "Et andet eksempel kunne være simplificeringen:\n",
    "$$\n",
    "\\sin^2(x) + \\cos^2(x) = 1\n",
    "$$"
   ]
  },
  {
   "cell_type": "code",
   "execution_count": 6,
   "metadata": {},
   "outputs": [
    {
     "data": {
      "text/latex": [
       "$\\displaystyle \\sin^{2}{\\left(x \\right)} + \\cos^{2}{\\left(x \\right)}$"
      ],
      "text/plain": [
       "sin(x)**2 + cos(x)**2"
      ]
     },
     "execution_count": 6,
     "metadata": {},
     "output_type": "execute_result"
    }
   ],
   "source": [
    "expr = sp.sin(x)**2 + sp.cos(x)**2\n",
    "expr"
   ]
  },
  {
   "cell_type": "markdown",
   "metadata": {},
   "source": [
    "Udtrykket er for kompliceret til, at SymPy ved, at den skal simplificere det automatisk, men vi kan tvinge det igennem med `simplify`-kommandoen:"
   ]
  },
  {
   "cell_type": "code",
   "execution_count": 7,
   "metadata": {},
   "outputs": [
    {
     "data": {
      "text/latex": [
       "$\\displaystyle 1$"
      ],
      "text/plain": [
       "1"
      ]
     },
     "execution_count": 7,
     "metadata": {},
     "output_type": "execute_result"
    }
   ],
   "source": [
    "sp.simplify(expr)"
   ]
  },
  {
   "cell_type": "markdown",
   "metadata": {},
   "source": [
    "**expand**\n",
    "\n",
    "Med `expand`-funktionen kan man gange paranteser ud:\n",
    "$$\n",
    "x (x + y^2) = x^2 + xy^2\n",
    "$$"
   ]
  },
  {
   "cell_type": "code",
   "execution_count": 9,
   "metadata": {},
   "outputs": [
    {
     "data": {
      "text/latex": [
       "$\\displaystyle x^{2} + x y^{2}$"
      ],
      "text/plain": [
       "x**2 + x*y**2"
      ]
     },
     "execution_count": 9,
     "metadata": {},
     "output_type": "execute_result"
    }
   ],
   "source": [
    "sp.expand(x*(x+y**2))"
   ]
  },
  {
   "cell_type": "markdown",
   "metadata": {},
   "source": [
    "**factor**\n",
    "\n",
    "Omvent kan man faktorisere et udtryk med `factor`:"
   ]
  },
  {
   "cell_type": "code",
   "execution_count": 19,
   "metadata": {},
   "outputs": [
    {
     "data": {
      "text/latex": [
       "$\\displaystyle x \\left(x + y^{2}\\right)$"
      ],
      "text/plain": [
       "x*(x + y**2)"
      ]
     },
     "execution_count": 19,
     "metadata": {},
     "output_type": "execute_result"
    }
   ],
   "source": [
    "sp.factor(x**2 + x*y**2)"
   ]
  },
  {
   "cell_type": "markdown",
   "metadata": {},
   "source": [
    "### Indsæt værdier af symbolske variable"
   ]
  },
  {
   "cell_type": "markdown",
   "metadata": {},
   "source": [
    "Lad os definere udtrykket $x(x+y^2)$ som en variabel i Python:"
   ]
  },
  {
   "cell_type": "code",
   "execution_count": 35,
   "metadata": {},
   "outputs": [
    {
     "data": {
      "text/latex": [
       "$\\displaystyle x \\left(x + y^{2}\\right)$"
      ],
      "text/plain": [
       "x*(x + y**2)"
      ]
     },
     "execution_count": 35,
     "metadata": {},
     "output_type": "execute_result"
    }
   ],
   "source": [
    "expr = x*(x+y**2)\n",
    "expr"
   ]
  },
  {
   "cell_type": "markdown",
   "metadata": {},
   "source": [
    "Med `subs` funktionen kan vi substituere en værdi ind for en symbolsk variabel:\n",
    "\n",
    "Fx kan vi erstatte $x$ med $2$ i udtrykket, hvilket giver:\n",
    "$$\n",
    "x(x + y^2) \\bigg|_{x=2} = 2 y^2 + 4\n",
    "$$"
   ]
  },
  {
   "cell_type": "code",
   "execution_count": 36,
   "metadata": {},
   "outputs": [
    {
     "data": {
      "text/latex": [
       "$\\displaystyle 2 y^{2} + 4$"
      ],
      "text/plain": [
       "2*y**2 + 4"
      ]
     },
     "execution_count": 36,
     "metadata": {},
     "output_type": "execute_result"
    }
   ],
   "source": [
    "expr.subs(x, 2)"
   ]
  },
  {
   "cell_type": "markdown",
   "metadata": {},
   "source": [
    "Vi kan også substituere både $x=2$ og $y=1$ ind i udtrykket på samme tid. Enten ved:"
   ]
  },
  {
   "cell_type": "code",
   "execution_count": 37,
   "metadata": {},
   "outputs": [
    {
     "data": {
      "text/latex": [
       "$\\displaystyle 6$"
      ],
      "text/plain": [
       "6"
      ]
     },
     "execution_count": 37,
     "metadata": {},
     "output_type": "execute_result"
    }
   ],
   "source": [
    "expr.subs(x, 2).subs(y, 1)"
   ]
  },
  {
   "cell_type": "markdown",
   "metadata": {},
   "source": [
    "Eller ved at angive en liste af par med gamle og nye værdier `(før, efter)`:"
   ]
  },
  {
   "cell_type": "code",
   "execution_count": 40,
   "metadata": {},
   "outputs": [
    {
     "data": {
      "text/latex": [
       "$\\displaystyle 6$"
      ],
      "text/plain": [
       "6"
      ]
     },
     "execution_count": 40,
     "metadata": {},
     "output_type": "execute_result"
    }
   ],
   "source": [
    "expr.subs([(x, 2), (y, 1)])"
   ]
  },
  {
   "cell_type": "markdown",
   "metadata": {},
   "source": [
    "**Bemærk:**\n",
    "\n",
    "Python-variablen `expr` er stadig uændret:"
   ]
  },
  {
   "cell_type": "code",
   "execution_count": 42,
   "metadata": {},
   "outputs": [
    {
     "data": {
      "text/latex": [
       "$\\displaystyle x \\left(x + y^{2}\\right)$"
      ],
      "text/plain": [
       "x*(x + y**2)"
      ]
     },
     "execution_count": 42,
     "metadata": {},
     "output_type": "execute_result"
    }
   ],
   "source": [
    "expr"
   ]
  },
  {
   "cell_type": "markdown",
   "metadata": {},
   "source": [
    "Generelt vil funktioner som `subs` ovenfor ikke ændre SymPy-udtryk, men i stedet returnere nye udtryk. Fx kan vi definere resultatet af at indsætte $x=2, y=1$ som et nyt udtryk:"
   ]
  },
  {
   "cell_type": "code",
   "execution_count": 43,
   "metadata": {},
   "outputs": [
    {
     "data": {
      "text/latex": [
       "$\\displaystyle 6$"
      ],
      "text/plain": [
       "6"
      ]
     },
     "execution_count": 43,
     "metadata": {},
     "output_type": "execute_result"
    }
   ],
   "source": [
    "expr2 = expr.subs([(x, 2), (y, 1)])\n",
    "expr2"
   ]
  },
  {
   "cell_type": "markdown",
   "metadata": {},
   "source": [
    "### Lav SymPy-udtryk til Python-funktioner"
   ]
  },
  {
   "cell_type": "markdown",
   "metadata": {},
   "source": [
    "Noget af det, der gør SymPy super stærkt, er at det er tæt integreret med Python og NumPy-biblioteket.\n",
    "\n",
    "NumPy muliggør, at man lynhurtigt kan lave beregninger på tusindvis af datapunkter.\n",
    "\n",
    "Fx kan vi bestemme $\\sin^2(x)$ for 1000 værdier liggende mellem $x=0$ og $x=2\\pi$"
   ]
  },
  {
   "cell_type": "code",
   "execution_count": 10,
   "metadata": {},
   "outputs": [],
   "source": [
    "x_np = np.linspace(0, 7, 1000)\n",
    "out1 = np.sin(x_np)**2"
   ]
  },
  {
   "cell_type": "markdown",
   "metadata": {},
   "source": [
    "Med SymPy, ville vi skulle klare dette med `for` loops, som er mindre elegante og unødigt ineffektive:"
   ]
  },
  {
   "cell_type": "code",
   "execution_count": 11,
   "metadata": {},
   "outputs": [],
   "source": [
    "out2 = []\n",
    "for x in x_np:\n",
    "    out2.append(sp.sin(x)**2)"
   ]
  },
  {
   "cell_type": "markdown",
   "metadata": {},
   "source": [
    "**lambdify**\n",
    "\n",
    "Heldigvis har SymPy den indbyggede funktion `lambdify`, der kan lave SymPy-udtryk om til Python-funktioner:"
   ]
  },
  {
   "cell_type": "code",
   "execution_count": 12,
   "metadata": {},
   "outputs": [],
   "source": [
    "x = sp.symbols('x')\n",
    "expr = sp.sin(x)**2\n",
    "f = sp.lambdify(x, expr, 'numpy')"
   ]
  },
  {
   "cell_type": "markdown",
   "metadata": {},
   "source": [
    "Nu er Python-variablen `f` en NumPy-funktion, som hurtigt kan evalueres på NumPy arrays med tusindvis af datapunkter:"
   ]
  },
  {
   "cell_type": "code",
   "execution_count": 13,
   "metadata": {},
   "outputs": [
    {
     "name": "stdout",
     "output_type": "stream",
     "text": [
      "Does the SymPy lambdify result agree with np.sin(xs)**2?: True\n"
     ]
    }
   ],
   "source": [
    "out3 = f(x_np)\n",
    "print('Does the SymPy lambdify result agree with np.sin(xs)**2?:', (np.sin(x_np)**2 == f(x_np)).all())"
   ]
  },
  {
   "cell_type": "markdown",
   "metadata": {},
   "source": [
    "Vi kan også indsætte vores egne udtryk for SymPy-funktioner.\n",
    "\n",
    "Fx kunne vi tvinge vores funktion til at bruge tilnærmelsen $\\sin(x) \\approx x$ (som gælder for små $x$) i stedet for NumPy's sinus-funktion:"
   ]
  },
  {
   "cell_type": "code",
   "execution_count": 14,
   "metadata": {},
   "outputs": [],
   "source": [
    "def sin_small_x(x):\n",
    "    return x\n",
    "\n",
    "f = sp.lambdify(x, expr, {'sin': sin_small_x})"
   ]
  },
  {
   "cell_type": "markdown",
   "metadata": {},
   "source": [
    "### Få $\\LaTeX$ udtryk fra SymPy"
   ]
  },
  {
   "cell_type": "markdown",
   "metadata": {},
   "source": [
    "SymPy's `latex` funktion omdanner et symbolsk udtryk til LaTeX-formattering, som du nemt kan indsætte som ligninger i LaTeX-dokumenter:"
   ]
  },
  {
   "cell_type": "code",
   "execution_count": 15,
   "metadata": {},
   "outputs": [
    {
     "name": "stdout",
     "output_type": "stream",
     "text": [
      "\\frac{3 x^{2}}{4}\n"
     ]
    }
   ],
   "source": [
    "expr = 3 * x**2/4\n",
    "print(sp.latex(expr))"
   ]
  },
  {
   "cell_type": "markdown",
   "metadata": {},
   "source": [
    "## 4. Opgaver"
   ]
  },
  {
   "cell_type": "markdown",
   "metadata": {},
   "source": [
    "1. Bestem $(9+1)(4+6)$ vha. SymPy.\n",
    "2. Definér variablen $a$ til at være $\\sqrt{3}$ og vis værdien af `a` i dokumentet her med $\\LaTeX$-formattering. Få LaTeX-formatterings-tekststrengen fra SymPy.\n",
    "3. Bestem $e^3$ som decimaltal - først med NumPy og dernæst med SymPy\n",
    "4. Tag 10-talslogartimen til 1420 med SymPy. Bestem eksakt- og decimaltalsværdi\n",
    "5. Bestem $\\frac{22}{7} - \\pi$ som decimaltal med SymPy\n",
    "6. Simplificér $\\frac{1}{2} \\left( e^{i 2 \\pi x} + e^{-i 2 \\pi x} \\right)$.\n",
    "7. Tjek, om $\\sin^2(x) + 1/4 (e^{i 2 x} + e^{- i 2 x} + 2) = 1$"
   ]
  },
  {
   "cell_type": "markdown",
   "metadata": {},
   "source": [
    "### Løsninger til opgaverne"
   ]
  },
  {
   "cell_type": "markdown",
   "metadata": {},
   "source": [
    "#### Løsning til 1."
   ]
  },
  {
   "cell_type": "markdown",
   "metadata": {},
   "source": [
    "Kan klares med `sympify`:"
   ]
  },
  {
   "cell_type": "code",
   "execution_count": 115,
   "metadata": {},
   "outputs": [
    {
     "data": {
      "text/latex": [
       "$\\displaystyle 100$"
      ],
      "text/plain": [
       "100"
      ]
     },
     "execution_count": 115,
     "metadata": {},
     "output_type": "execute_result"
    }
   ],
   "source": [
    "sp.sympify('(9+1)*(4+6)')"
   ]
  },
  {
   "cell_type": "markdown",
   "metadata": {},
   "source": [
    "Alternativt kan vi eksplicit angive, at tallene er heltal:"
   ]
  },
  {
   "cell_type": "code",
   "execution_count": 113,
   "metadata": {},
   "outputs": [
    {
     "data": {
      "text/latex": [
       "$\\displaystyle 100$"
      ],
      "text/plain": [
       "100"
      ]
     },
     "execution_count": 113,
     "metadata": {},
     "output_type": "execute_result"
    }
   ],
   "source": [
    "(sp.Integer(9) + sp.Integer(1))*(sp.Integer(4) + sp.Integer(6))"
   ]
  },
  {
   "cell_type": "markdown",
   "metadata": {},
   "source": [
    "Faktisk er det tilstrækkeligt, bare at angive at ét af tallene er et heltal. Så snart, vi har introduceret en SymPy-kommando i en kodelinje, bliver hele beregningen lavet med SymPy."
   ]
  },
  {
   "cell_type": "code",
   "execution_count": 114,
   "metadata": {},
   "outputs": [
    {
     "data": {
      "text/latex": [
       "$\\displaystyle 100$"
      ],
      "text/plain": [
       "100"
      ]
     },
     "execution_count": 114,
     "metadata": {},
     "output_type": "execute_result"
    }
   ],
   "source": [
    "(sp.Integer(9) + 1)*(4 + 6)"
   ]
  },
  {
   "cell_type": "markdown",
   "metadata": {},
   "source": [
    "#### Løsning til 2."
   ]
  },
  {
   "cell_type": "code",
   "execution_count": 120,
   "metadata": {},
   "outputs": [],
   "source": [
    "a = sp.sqrt(3)"
   ]
  },
  {
   "cell_type": "markdown",
   "metadata": {},
   "source": [
    "For at vise `a` kan vi bare skrive den på sidste linje i en kodeblok:"
   ]
  },
  {
   "cell_type": "code",
   "execution_count": 130,
   "metadata": {},
   "outputs": [
    {
     "data": {
      "text/latex": [
       "$\\displaystyle \\sqrt{3}$"
      ],
      "text/plain": [
       "sqrt(3)"
      ]
     },
     "execution_count": 130,
     "metadata": {},
     "output_type": "execute_result"
    }
   ],
   "source": [
    "a"
   ]
  },
  {
   "cell_type": "markdown",
   "metadata": {},
   "source": [
    "Eller vi kan eksplicit bruge `display`-kommandoen:"
   ]
  },
  {
   "cell_type": "code",
   "execution_count": 119,
   "metadata": {},
   "outputs": [
    {
     "data": {
      "text/latex": [
       "$\\displaystyle \\sqrt{3}$"
      ],
      "text/plain": [
       "sqrt(3)"
      ]
     },
     "metadata": {},
     "output_type": "display_data"
    }
   ],
   "source": [
    "display(a)"
   ]
  },
  {
   "cell_type": "markdown",
   "metadata": {},
   "source": [
    "$\\LaTeX$-tekststrengen fås med `latex`-kommandoen:"
   ]
  },
  {
   "cell_type": "code",
   "execution_count": 123,
   "metadata": {},
   "outputs": [
    {
     "name": "stdout",
     "output_type": "stream",
     "text": [
      "\\sqrt{3}\n"
     ]
    }
   ],
   "source": [
    "print(sp.latex(a))"
   ]
  },
  {
   "cell_type": "markdown",
   "metadata": {},
   "source": [
    "#### Løsning til 3."
   ]
  },
  {
   "cell_type": "code",
   "execution_count": 126,
   "metadata": {},
   "outputs": [
    {
     "data": {
      "text/plain": [
       "20.085536923187668"
      ]
     },
     "execution_count": 126,
     "metadata": {},
     "output_type": "execute_result"
    }
   ],
   "source": [
    "np.exp(3)"
   ]
  },
  {
   "cell_type": "code",
   "execution_count": 125,
   "metadata": {},
   "outputs": [
    {
     "data": {
      "text/latex": [
       "$\\displaystyle 20.0855369231877$"
      ],
      "text/plain": [
       "20.0855369231877"
      ]
     },
     "execution_count": 125,
     "metadata": {},
     "output_type": "execute_result"
    }
   ],
   "source": [
    "sp.exp(3).evalf()"
   ]
  },
  {
   "cell_type": "markdown",
   "metadata": {},
   "source": [
    "#### Løsning til 4."
   ]
  },
  {
   "cell_type": "code",
   "execution_count": 128,
   "metadata": {},
   "outputs": [
    {
     "data": {
      "text/latex": [
       "$\\displaystyle 1 + \\frac{\\log{\\left(142 \\right)}}{\\log{\\left(10 \\right)}}$"
      ],
      "text/plain": [
       "1 + log(142)/log(10)"
      ]
     },
     "execution_count": 128,
     "metadata": {},
     "output_type": "execute_result"
    }
   ],
   "source": [
    "sp.log(1420, 10)"
   ]
  },
  {
   "cell_type": "code",
   "execution_count": 129,
   "metadata": {},
   "outputs": [
    {
     "data": {
      "text/latex": [
       "$\\displaystyle 3.15228834438306$"
      ],
      "text/plain": [
       "3.15228834438306"
      ]
     },
     "execution_count": 129,
     "metadata": {},
     "output_type": "execute_result"
    }
   ],
   "source": [
    "sp.log(1420, 10).evalf()"
   ]
  },
  {
   "cell_type": "markdown",
   "metadata": {},
   "source": [
    "#### Løsning til 5."
   ]
  },
  {
   "cell_type": "code",
   "execution_count": 132,
   "metadata": {},
   "outputs": [
    {
     "data": {
      "text/latex": [
       "$\\displaystyle 0.00126448926734962$"
      ],
      "text/plain": [
       "0.00126448926734962"
      ]
     },
     "execution_count": 132,
     "metadata": {},
     "output_type": "execute_result"
    }
   ],
   "source": [
    "(sp.Rational(22, 7) - sp.pi).evalf()"
   ]
  },
  {
   "cell_type": "markdown",
   "metadata": {},
   "source": [
    "**Bemærk:** \n",
    "\n",
    "$\\pi$ fås som `sp.pi`."
   ]
  },
  {
   "cell_type": "markdown",
   "metadata": {},
   "source": [
    "#### Løsning til 6."
   ]
  },
  {
   "cell_type": "code",
   "execution_count": 134,
   "metadata": {},
   "outputs": [
    {
     "data": {
      "text/latex": [
       "$\\displaystyle \\cos{\\left(2 \\pi x \\right)}$"
      ],
      "text/plain": [
       "cos(2*pi*x)"
      ]
     },
     "execution_count": 134,
     "metadata": {},
     "output_type": "execute_result"
    }
   ],
   "source": [
    "x = sp.symbols('x')\n",
    "expr = sp.Rational(1/2) * (sp.exp(sp.I * 2 * sp.pi * x) + sp.exp(- sp.I * 2 * sp.pi * x))\n",
    "sp.simplify(expr)"
   ]
  },
  {
   "cell_type": "markdown",
   "metadata": {},
   "source": [
    "**Bemærk**\n",
    "\n",
    "1. Det er vigtigt at bruge `Rational` frem for bare at skrive 1/2 for at få det eksakte resultat\n",
    "2. $i$ fås som `sp.I`."
   ]
  },
  {
   "cell_type": "markdown",
   "metadata": {},
   "source": [
    "#### Løsning til 7."
   ]
  },
  {
   "cell_type": "markdown",
   "metadata": {},
   "source": [
    "For at tjekke, om to udtryk er ens, kan vi enten trække venstre- og højresiden fra hinanden og tjekke, at det simplificerer til nul:"
   ]
  },
  {
   "cell_type": "code",
   "execution_count": 160,
   "metadata": {},
   "outputs": [
    {
     "data": {
      "text/latex": [
       "$\\displaystyle \\frac{e^{2 i x}}{4} + \\sin^{2}{\\left(x \\right)} + \\frac{1}{2} + \\frac{e^{- 2 i x}}{4}$"
      ],
      "text/plain": [
       "exp(2*I*x)/4 + sin(x)**2 + 1/2 + exp(-2*I*x)/4"
      ]
     },
     "metadata": {},
     "output_type": "display_data"
    },
    {
     "data": {
      "text/latex": [
       "$\\displaystyle 0$"
      ],
      "text/plain": [
       "0"
      ]
     },
     "execution_count": 160,
     "metadata": {},
     "output_type": "execute_result"
    }
   ],
   "source": [
    "LHS = sp.sin(x)**2 + sp.Rational(1, 4) * (sp.exp(sp.I * 2* x) + sp.exp(- sp.I * 2 * x) + 2)\n",
    "display(LHS)\n",
    "RHS = 1\n",
    "sp.simplify(LHS - RHS)"
   ]
  },
  {
   "cell_type": "markdown",
   "metadata": {},
   "source": [
    "Ligningen er altså sand.\n",
    "\n",
    "Alternativt, kan vi bruge `.equals()`-funktionen:"
   ]
  },
  {
   "cell_type": "code",
   "execution_count": 153,
   "metadata": {},
   "outputs": [
    {
     "data": {
      "text/plain": [
       "True"
      ]
     },
     "execution_count": 153,
     "metadata": {},
     "output_type": "execute_result"
    }
   ],
   "source": [
    "LHS.equals(RHS)"
   ]
  },
  {
   "cell_type": "markdown",
   "metadata": {},
   "source": [
    "**Bemærk:**\n",
    "\n",
    "Dette er et tilfælde, hvor `simplify` ikke automatisk kan se, at venstresiden bare reducerer til 1."
   ]
  },
  {
   "cell_type": "code",
   "execution_count": 156,
   "metadata": {},
   "outputs": [
    {
     "data": {
      "text/latex": [
       "$\\displaystyle \\sin^{2}{\\left(x \\right)} + \\frac{\\cos{\\left(2 x \\right)}}{2} + \\frac{1}{2}$"
      ],
      "text/plain": [
       "sin(x)**2 + cos(2*x)/2 + 1/2"
      ]
     },
     "execution_count": 156,
     "metadata": {},
     "output_type": "execute_result"
    }
   ],
   "source": [
    "sp.simplify(LHS)"
   ]
  },
  {
   "cell_type": "markdown",
   "metadata": {},
   "source": [
    "Generelt er vi ikke garanteret, at `simplify` finder den simpleste løsning (det er faktisk matematisk umuligt at garantere dette i alle tilfælde).\n",
    "\n",
    "I sjældne tilfælde kan man dog forsøge, at kalde `simplify` flere gange for at se, om udtrykket kan reduceres yderligere:"
   ]
  },
  {
   "cell_type": "code",
   "execution_count": 161,
   "metadata": {},
   "outputs": [
    {
     "data": {
      "text/latex": [
       "$\\displaystyle 1$"
      ],
      "text/plain": [
       "1"
      ]
     },
     "execution_count": 161,
     "metadata": {},
     "output_type": "execute_result"
    }
   ],
   "source": [
    "sp.simplify(sp.simplify(LHS))"
   ]
  },
  {
   "cell_type": "markdown",
   "metadata": {},
   "source": [
    "## 5. Tegn grafer og kurver"
   ]
  },
  {
   "cell_type": "markdown",
   "metadata": {},
   "source": [
    "Lad os ryde alle variable og importere de nødvendige pakker igen:"
   ]
  },
  {
   "cell_type": "code",
   "execution_count": 1,
   "metadata": {},
   "outputs": [],
   "source": [
    "%reset -f\n",
    "import sympy as sp\n",
    "import numpy as np\n",
    "from IPython.display import display"
   ]
  },
  {
   "cell_type": "markdown",
   "metadata": {},
   "source": [
    "SymPy har en `plot` funktion, der gør det nemt hurtigt at tegne grafen for en funktion af symbolske variable."
   ]
  },
  {
   "cell_type": "markdown",
   "metadata": {},
   "source": [
    "### Grafer vha. SymPy"
   ]
  },
  {
   "cell_type": "markdown",
   "metadata": {},
   "source": [
    "**Graf for en enkelt funktion**\n",
    "\n",
    "Tegn grafen for funktionen $f(x) = x^2$ for $0 \\leq x \\leq 2$ og $-1 \\leq y \\leq 1$:"
   ]
  },
  {
   "cell_type": "code",
   "execution_count": 2,
   "metadata": {},
   "outputs": [
    {
     "data": {
      "image/png": "[encoded data removed]",
      "text/plain": [
       "<Figure size 432x288 with 1 Axes>"
      ]
     },
     "metadata": {
      "needs_background": "light"
     },
     "output_type": "display_data"
    }
   ],
   "source": [
    "x = sp.symbols('x')\n",
    "f = x**2\n",
    "p = sp.plot(f, (x, 0, 2), ylim=(-1, 1))"
   ]
  },
  {
   "cell_type": "markdown",
   "metadata": {},
   "source": [
    "**Graf for flere funktioner**\n",
    "\n",
    "Tegn graferne for funktionerne $f(x) = x^2$ og $g(x)=\\sin(x)$ i samme plot:"
   ]
  },
  {
   "cell_type": "code",
   "execution_count": 3,
   "metadata": {},
   "outputs": [
    {
     "data": {
      "image/png": "[encoded data removed]",
      "text/plain": [
       "<Figure size 432x288 with 1 Axes>"
      ]
     },
     "metadata": {
      "needs_background": "light"
     },
     "output_type": "display_data"
    }
   ],
   "source": [
    "g = sp.sin(x)\n",
    "p = sp.plot(f, g, (x, 0, 2*sp.pi), ylim=(-1, 1))"
   ]
  },
  {
   "cell_type": "markdown",
   "metadata": {},
   "source": [
    "En anden måde at tegne $f$ og $g$ i samme plot er vha. `extend` funktionen:"
   ]
  },
  {
   "cell_type": "code",
   "execution_count": 4,
   "metadata": {},
   "outputs": [
    {
     "data": {
      "image/png": "[encoded data removed]",
      "text/plain": [
       "<Figure size 432x288 with 1 Axes>"
      ]
     },
     "metadata": {
      "needs_background": "light"
     },
     "output_type": "display_data"
    }
   ],
   "source": [
    "p1 = sp.plot(f, (x, 0, 2*sp.pi), ylim=(-1, 1), show=False, label='$f(x) = x^2$', legend=True)\n",
    "p2 = sp.plot(g, (x, 0, 2*sp.pi), ylim=(-1, 1), show=False, label='$g(x) = \\sin(x)$')\n",
    "p1.extend(p2)\n",
    "p1.show()"
   ]
  },
  {
   "cell_type": "markdown",
   "metadata": {},
   "source": [
    "Bemærk, at indstillingen `show=False` gør at plottet først vises, når vi kalder `p1.show()`."
   ]
  },
  {
   "cell_type": "markdown",
   "metadata": {},
   "source": [
    "### Grafer vha. Matplotlib"
   ]
  },
  {
   "cell_type": "markdown",
   "metadata": {},
   "source": [
    "Ønsker du pænere plots end SymPy kan give, anbefaler jeg at gå over til at tegne plotsene direkte i Matplotlib.\n",
    "\n",
    "Dette kan du gøre med SymPy's `lambdify` funktion nævnt tidligere.\n",
    "\n",
    "Fx kan vi tegne de to funktioner ovenfor vha. koden:"
   ]
  },
  {
   "cell_type": "code",
   "execution_count": 5,
   "metadata": {},
   "outputs": [
    {
     "data": {
      "image/png": "[encoded data removed]",
      "text/plain": [
       "<Figure size 432x288 with 1 Axes>"
      ]
     },
     "metadata": {
      "needs_background": "light"
     },
     "output_type": "display_data"
    }
   ],
   "source": [
    "import matplotlib.pyplot as plt\n",
    "x_np = np.linspace(0, 2*np.pi)\n",
    "f_np = sp.lambdify(x, f)\n",
    "g_np = sp.lambdify(x, g)\n",
    "\n",
    "plt.plot(x_np, f_np(x_np))\n",
    "plt.plot(x_np, g_np(x_np))\n",
    "plt.show()"
   ]
  },
  {
   "cell_type": "markdown",
   "metadata": {},
   "source": [
    "Med Matplotlib kan man fx justere figurstørrelse, farver og tilføje gitterlinjer, legend, xlabel, ylabel og titel:"
   ]
  },
  {
   "cell_type": "code",
   "execution_count": 9,
   "metadata": {},
   "outputs": [
    {
     "data": {
      "image/png": "[encoded data removed]",
      "text/plain": [
       "<Figure size 360x216 with 1 Axes>"
      ]
     },
     "metadata": {
      "needs_background": "light"
     },
     "output_type": "display_data"
    }
   ],
   "source": [
    "import matplotlib.pyplot as plt\n",
    "x_np = np.linspace(0, 2*np.pi)\n",
    "f_np = sp.lambdify(x, f)\n",
    "g_np = sp.lambdify(x, g)\n",
    "\n",
    "plt.figure(figsize=(5, 3))\n",
    "plt.plot(x_np, f_np(x_np), '-', color='tab:red', label=r'$f(x) = x^2$')\n",
    "plt.plot(x_np, g_np(x_np), '-', color='tab:purple', label=r'$g(x) = \\sin(x)$')\n",
    "plt.xlabel('$x$')\n",
    "plt.ylabel('$y$')\n",
    "plt.grid()\n",
    "plt.ylim(-1, 1)\n",
    "plt.legend()\n",
    "plt.title('Graf for $f(x)$ og $g(x)$')\n",
    "plt.show()"
   ]
  },
  {
   "cell_type": "markdown",
   "metadata": {},
   "source": [
    "**Pæne plots med $\\LaTeX$**\n",
    "\n",
    "Man kan faktisk få Matplotlib til at skrive titler, labels m.m. med $\\LaTeX$ for at få super pæne plots.\n",
    "\n",
    "Du kan indsætte nedenstående kodecelle i starten af dine notebooks for at alle plots bliver vist med $\\LaTeX$. Jeg har gjort kodecellen inaktiv ved at kommentere kodelinjerne, da indstillingen gør dokumentet lidt langsomere og kræver, at man har $\\LaTeX$ installeret."
   ]
  },
  {
   "cell_type": "code",
   "execution_count": 7,
   "metadata": {},
   "outputs": [],
   "source": [
    "# # Insert this in the start of your IPython notebook to render plots with LaTeX:\n",
    "# import matplotlib.pyplot as plt\n",
    "# import matplotlib as mpl\n",
    "# from matplotlib import rcParams\n",
    "# rcParams.update(mpl.rcParamsDefault)\n",
    "# rcParams.update({\n",
    "#     \"text.usetex\": True,\n",
    "#     \"font.family\": \"serif\",\n",
    "#     \"font.sans-serif\": [\"Computer Modern Roman\"],\n",
    "#     \"font.size\": 11})\n",
    "# rcParams['axes.titlepad'] = 11\n",
    "\n",
    "# cm = 1/2.54 # 1 cm = 1/2.54 inch"
   ]
  },
  {
   "cell_type": "markdown",
   "metadata": {},
   "source": [
    "Eksemplet nedenfor illustrerer resultatet af vores plot med $\\LaTeX$-rendering:"
   ]
  },
  {
   "cell_type": "code",
   "execution_count": 13,
   "metadata": {},
   "outputs": [
    {
     "data": {
      "image/png": "[encoded data removed]",
      "text/plain": [
       "<Figure size 314.961x236.22 with 1 Axes>"
      ]
     },
     "metadata": {},
     "output_type": "display_data"
    }
   ],
   "source": [
    "# x_np = np.linspace(0, 2*np.pi)\n",
    "# xticks = np.linspace(0, 2*np.pi, 9)\n",
    "# xtick_labels = [r'$' + sp.latex(i * sp.pi/4) + '$' for i in range(len(xticks))]\n",
    "# f_np = sp.lambdify(x, f)\n",
    "# g_np = sp.lambdify(x, g)\n",
    "\n",
    "# plt.figure(figsize=(8*cm, 6*cm))\n",
    "# plt.plot(x_np, f_np(x_np), '-', label=r'$f(x) = x^2$')\n",
    "# plt.plot(x_np, g_np(x_np), '-', label=r'$g(x) = \\sin(x)$')\n",
    "# plt.xlabel('$x$')\n",
    "# plt.ylabel('$y$')\n",
    "# plt.xticks(xticks, xtick_labels)\n",
    "# plt.grid()\n",
    "# plt.ylim(-1, 1)\n",
    "# plt.legend()\n",
    "# plt.title('Graf for $f(x)$ og $g(x)$')\n",
    "# plt.show()"
   ]
  },
  {
   "cell_type": "markdown",
   "metadata": {},
   "source": [
    "### Mere avancerede plots"
   ]
  },
  {
   "cell_type": "markdown",
   "metadata": {},
   "source": [
    "#### Parametrisk plot"
   ]
  },
  {
   "cell_type": "markdown",
   "metadata": {},
   "source": [
    "Tegn den parametriske kurve \n",
    "$$\n",
    "(x(t), y(t)) = (t \\cos(2 \\pi t), t \\sin(2 \\pi t))\n",
    "$$\n",
    "for $t \\in [0, 2]$:"
   ]
  },
  {
   "cell_type": "code",
   "execution_count": 28,
   "metadata": {},
   "outputs": [
    {
     "data": {
      "image/png": "[encoded data removed]",
      "text/plain": [
       "<Figure size 432x288 with 1 Axes>"
      ]
     },
     "metadata": {
      "needs_background": "light"
     },
     "output_type": "display_data"
    }
   ],
   "source": [
    "t = sp.symbols('t')\n",
    "f = (t * sp.cos(2*sp.pi*t), t * sp.sin(2*sp.pi*t))\n",
    "p = sp.plot_parametric(f, (t, 0, 2))"
   ]
  },
  {
   "cell_type": "markdown",
   "metadata": {},
   "source": [
    "#### Implicit plot"
   ]
  },
  {
   "cell_type": "markdown",
   "metadata": {},
   "source": [
    "Tegn en cirkel med radius 3. Dette kan defineres som $(x,y)$-punkterne, der opfylder\n",
    "$$\n",
    "x^2 + y^2 = 3^2\n",
    "$$"
   ]
  },
  {
   "cell_type": "code",
   "execution_count": 29,
   "metadata": {},
   "outputs": [
    {
     "data": {
      "image/png": "[encoded data removed]",
      "text/plain": [
       "<Figure size 432x288 with 1 Axes>"
      ]
     },
     "metadata": {
      "needs_background": "light"
     },
     "output_type": "display_data"
    }
   ],
   "source": [
    "x, y = sp.symbols('x y')\n",
    "p = sp.plot_implicit(sp.Eq(x**2 + y**2, 9))"
   ]
  },
  {
   "cell_type": "markdown",
   "metadata": {},
   "source": [
    "#### 3D Plot"
   ]
  },
  {
   "cell_type": "markdown",
   "metadata": {},
   "source": [
    "Tegn grafen for en funktion af to variable. Fx\n",
    "$$\n",
    "f(x, y) = x e^{-x^2 - y^2}\n",
    "$$\n",
    "i intervallet $-2 \\leq x \\leq 2$ og $-2 \\leq y \\leq 2$:"
   ]
  },
  {
   "cell_type": "code",
   "execution_count": 27,
   "metadata": {},
   "outputs": [
    {
     "data": {
      "image/png": "[encoded data removed]",
      "text/plain": [
       "<Figure size 432x288 with 1 Axes>"
      ]
     },
     "metadata": {
      "needs_background": "light"
     },
     "output_type": "display_data"
    }
   ],
   "source": [
    "from sympy.plotting import plot3d\n",
    "x, y = sp.symbols('x y')\n",
    "p = plot3d(x*sp.exp(-x**2 - y**2), (x, -2, 2), (y, -2, 2))"
   ]
  },
  {
   "cell_type": "markdown",
   "metadata": {},
   "source": [
    "## 6. Løsning af ligninger"
   ]
  },
  {
   "cell_type": "markdown",
   "metadata": {},
   "source": [
    "### Løsning af en enkelt algebraisk ligning"
   ]
  },
  {
   "cell_type": "markdown",
   "metadata": {},
   "source": [
    "**Repræsentation af ligninger med `Eq`**\n",
    "\n",
    "I Python bruges lighedstegnet til at definere Python-variable.\n",
    "\n",
    "Derfor, kan vi ikke bare bruge lighedstegnet for at repræsentere ligninger.\n",
    "\n",
    "I stedet skal vi bruge `Eq`-funktionen. Fx kan ligningen \n",
    "$$\n",
    "x^2 = y - 2\n",
    "$$\n",
    "repræsenteres ved:"
   ]
  },
  {
   "cell_type": "code",
   "execution_count": 113,
   "metadata": {},
   "outputs": [
    {
     "data": {
      "text/latex": [
       "$\\displaystyle x^{2} = y - 2$"
      ],
      "text/plain": [
       "Eq(x**2, y - 2)"
      ]
     },
     "execution_count": 113,
     "metadata": {},
     "output_type": "execute_result"
    }
   ],
   "source": [
    "x, y = sp.symbols('x y')\n",
    "eq = sp.Eq(x**2, y-2)\n",
    "eq"
   ]
  },
  {
   "cell_type": "markdown",
   "metadata": {},
   "source": [
    "**solve-kommandoen**"
   ]
  },
  {
   "cell_type": "markdown",
   "metadata": {},
   "source": [
    "Vi kan løse ligningen for $x$ med `solve`-kommandoen. Ligningen har løsningerne\n",
    "$$\n",
    "x = \\sqrt{y-2}\n",
    "\\quad \\text{og} \\quad\n",
    "x = -\\sqrt{y-2}\n",
    "$$"
   ]
  },
  {
   "cell_type": "code",
   "execution_count": 114,
   "metadata": {},
   "outputs": [
    {
     "data": {
      "text/plain": [
       "[-sqrt(y - 2), sqrt(y - 2)]"
      ]
     },
     "execution_count": 114,
     "metadata": {},
     "output_type": "execute_result"
    }
   ],
   "source": [
    "sp.solve(eq, x)"
   ]
  },
  {
   "cell_type": "markdown",
   "metadata": {},
   "source": [
    "Tilsvarende kan vi finde løsningen $y = x^2 + 2$ ved at isolere for $y$ i stedet:"
   ]
  },
  {
   "cell_type": "code",
   "execution_count": 115,
   "metadata": {},
   "outputs": [
    {
     "data": {
      "text/plain": [
       "[x**2 + 2]"
      ]
     },
     "execution_count": 115,
     "metadata": {},
     "output_type": "execute_result"
    }
   ],
   "source": [
    "sp.solve(eq, y)"
   ]
  },
  {
   "cell_type": "markdown",
   "metadata": {},
   "source": [
    "**Udtræk løsninger fra `solve`-kommandoen**\n",
    "\n",
    "Bemærk, at vi med `solve`-kommandoen kan arbejde videre med resultatet. Fx kan vi evaluere den første af løsningerne ved $y=5$"
   ]
  },
  {
   "cell_type": "code",
   "execution_count": 119,
   "metadata": {},
   "outputs": [
    {
     "data": {
      "text/latex": [
       "$\\displaystyle - \\sqrt{3}$"
      ],
      "text/plain": [
       "-sqrt(3)"
      ]
     },
     "execution_count": 119,
     "metadata": {},
     "output_type": "execute_result"
    }
   ],
   "source": [
    "sol = sp.solve(eq, x)\n",
    "sol[0].subs(y, 5)"
   ]
  },
  {
   "cell_type": "markdown",
   "metadata": {},
   "source": [
    "Igen kan vi få resultatet som decimaltal ved at bruge `evalf`:"
   ]
  },
  {
   "cell_type": "code",
   "execution_count": 121,
   "metadata": {},
   "outputs": [
    {
     "data": {
      "text/latex": [
       "$\\displaystyle -1.73205080756888$"
      ],
      "text/plain": [
       "-1.73205080756888"
      ]
     },
     "execution_count": 121,
     "metadata": {},
     "output_type": "execute_result"
    }
   ],
   "source": [
    "sol[0].subs(y, 5).evalf()"
   ]
  },
  {
   "cell_type": "markdown",
   "metadata": {},
   "source": [
    "Vi kan også gøre det samme for alle løsninger ved hjælp af en list comprehension (en måde at lave for loops i én linje i Python):"
   ]
  },
  {
   "cell_type": "code",
   "execution_count": 123,
   "metadata": {},
   "outputs": [
    {
     "data": {
      "text/plain": [
       "[-1.73205080756888, 1.73205080756888]"
      ]
     },
     "execution_count": 123,
     "metadata": {},
     "output_type": "execute_result"
    }
   ],
   "source": [
    "[s.subs(y, 5).evalf() for s in sol]"
   ]
  },
  {
   "cell_type": "markdown",
   "metadata": {},
   "source": [
    "**solveset-kommandoen**\n",
    "\n",
    "Som et alternativ til `solve` kan man bruge `solveset`-kommandoen:"
   ]
  },
  {
   "cell_type": "code",
   "execution_count": 86,
   "metadata": {},
   "outputs": [
    {
     "data": {
      "text/latex": [
       "$\\displaystyle \\left\\{- \\sqrt{y - 2}, \\sqrt{y - 2}\\right\\}$"
      ],
      "text/plain": [
       "{-sqrt(y - 2), sqrt(y - 2)}"
      ]
     },
     "execution_count": 86,
     "metadata": {},
     "output_type": "execute_result"
    }
   ],
   "source": [
    "sp.solveset(eq, x)"
   ]
  },
  {
   "cell_type": "markdown",
   "metadata": {},
   "source": [
    "`solveset` angiver løsningen for $x$ som en løsningsmængde, hvilket er mere matematisk korrekt og mere læsbart.\n",
    "\n",
    "Til gengæld kan vi så ikke generelt programmatisk udtrække løsningen, som vi kunne tidligere med `solve`-kommandoen."
   ]
  },
  {
   "cell_type": "markdown",
   "metadata": {},
   "source": [
    "### Løsningsdomænet"
   ]
  },
  {
   "cell_type": "markdown",
   "metadata": {},
   "source": [
    "**Antagelser om variable**\n",
    "\n",
    "Vi kan indkode visse antagelser om variablene $x$ og $y$. Betragt fx ligningen:\n",
    "$$\n",
    "x^4 = 16\n",
    "$$\n",
    "Uden antagelser har ligningen 4 komplekse løsninger:"
   ]
  },
  {
   "cell_type": "code",
   "execution_count": 98,
   "metadata": {},
   "outputs": [
    {
     "data": {
      "text/plain": [
       "[-2, 2, -2*I, 2*I]"
      ]
     },
     "execution_count": 98,
     "metadata": {},
     "output_type": "execute_result"
    }
   ],
   "source": [
    "x = sp.symbols('x')\n",
    "eq = sp.Eq(x**4, 16)\n",
    "sp.solve(eq, x)"
   ]
  },
  {
   "cell_type": "markdown",
   "metadata": {},
   "source": [
    "Kræver vi derimod, at $x$ er reel, så er der kun 2 mulige løsninger:"
   ]
  },
  {
   "cell_type": "code",
   "execution_count": 99,
   "metadata": {},
   "outputs": [
    {
     "data": {
      "text/plain": [
       "[-2, 2]"
      ]
     },
     "execution_count": 99,
     "metadata": {},
     "output_type": "execute_result"
    }
   ],
   "source": [
    "x = sp.symbols('x', real=True)\n",
    "eq = sp.Eq(x**4, 16)\n",
    "sp.solve(eq, x)"
   ]
  },
  {
   "cell_type": "markdown",
   "metadata": {},
   "source": [
    "**Begræns løsningsdomænet med `solveset`**\n",
    "\n",
    "`solveset`-kommandoen giver flere muligheder for at kontrollere løsningsdomænet.\n",
    "\n",
    "Fx kan vi igen begrænse $x \\in \\mathbb{R}$ ved at angive `domain`:"
   ]
  },
  {
   "cell_type": "code",
   "execution_count": 105,
   "metadata": {},
   "outputs": [
    {
     "data": {
      "text/latex": [
       "$\\displaystyle \\left\\{-2, 2\\right\\}$"
      ],
      "text/plain": [
       "{-2, 2}"
      ]
     },
     "execution_count": 105,
     "metadata": {},
     "output_type": "execute_result"
    }
   ],
   "source": [
    "x = sp.symbols('x')\n",
    "eq = sp.Eq(x**4, 16)\n",
    "sp.solveset(eq, x, domain=sp.S.Reals)"
   ]
  },
  {
   "cell_type": "markdown",
   "metadata": {},
   "source": [
    "**Løsninger i et interval**\n",
    "\n",
    "Et andet eksempel kunne være, at vi vil finde løsninger til ligningen $\\sin(x) = 0$ i intervallet $x \\in [0, 2\\pi]$:"
   ]
  },
  {
   "cell_type": "code",
   "execution_count": 109,
   "metadata": {},
   "outputs": [
    {
     "data": {
      "text/latex": [
       "$\\displaystyle \\left\\{0, \\pi, 2 \\pi\\right\\}$"
      ],
      "text/plain": [
       "{0, pi, 2*pi}"
      ]
     },
     "execution_count": 109,
     "metadata": {},
     "output_type": "execute_result"
    }
   ],
   "source": [
    "x = sp.symbols('x')\n",
    "sp.solveset(sp.sin(x), x, domain=sp.Interval(0, 2*sp.pi))"
   ]
  },
  {
   "cell_type": "markdown",
   "metadata": {},
   "source": [
    "**Ligninger med uendelig mange løsninger**\n",
    "\n",
    "Ligningen $\\sin(x)=0$ har faktisk uendeligt mange løsninger, fordi $\\sin(x)$ er en periodisk funktion.\n",
    "\n",
    "Vi kan finde alle løsninger vha. `solveset`:"
   ]
  },
  {
   "cell_type": "code",
   "execution_count": 124,
   "metadata": {},
   "outputs": [
    {
     "data": {
      "text/latex": [
       "$\\displaystyle \\left\\{2 n \\pi\\; \\middle|\\; n \\in \\mathbb{Z}\\right\\} \\cup \\left\\{2 n \\pi + \\pi\\; \\middle|\\; n \\in \\mathbb{Z}\\right\\}$"
      ],
      "text/plain": [
       "Union(ImageSet(Lambda(_n, 2*_n*pi + pi), Integers), ImageSet(Lambda(_n, 2*_n*pi), Integers))"
      ]
     },
     "execution_count": 124,
     "metadata": {},
     "output_type": "execute_result"
    }
   ],
   "source": [
    "sp.solveset(sp.sin(x), x)"
   ]
  },
  {
   "cell_type": "markdown",
   "metadata": {},
   "source": [
    "$\\mathbb{Z}$ er mængden af heltal og $\\cup$ betegner foreningsmængden. Løsningerne er altså lige eller ulige multiplum af $\\pi$.\n",
    "Dette kan skrives simplere som heltal af $\\pi$:\n",
    "$$\n",
    "\\left\\{ n \\pi \\, | \\, n \\in \\mathbb{Z} \\right\\}\n",
    "$$\n",
    "\n",
    "**Bemærk**\n",
    "\n",
    "Hvis vi bruger `solve` i stedet for `solveset` får vi kun løsninger inden for første periode ( $x \\in [0, 2\\pi[$ )af den periodiske funktion $\\sin(x)$:"
   ]
  },
  {
   "cell_type": "code",
   "execution_count": 125,
   "metadata": {},
   "outputs": [
    {
     "data": {
      "text/plain": [
       "[0, pi]"
      ]
     },
     "execution_count": 125,
     "metadata": {},
     "output_type": "execute_result"
    }
   ],
   "source": [
    "sp.solve(sp.sin(x), x)"
   ]
  },
  {
   "cell_type": "markdown",
   "metadata": {},
   "source": [
    "### Ligningssystem med flere ligninger"
   ]
  },
  {
   "cell_type": "markdown",
   "metadata": {},
   "source": [
    "Brug `solve`-kommandoen for at løse flere ligninger med flere ubekendte. Fx\n",
    "$$\n",
    "\\frac{1}{3} x = 2 y + 4, \\quad \\frac{1}{3} x + y = 20\n",
    "$$"
   ]
  },
  {
   "cell_type": "code",
   "execution_count": 138,
   "metadata": {},
   "outputs": [
    {
     "data": {
      "text/plain": [
       "{x: 44, y: 16/3}"
      ]
     },
     "execution_count": 138,
     "metadata": {},
     "output_type": "execute_result"
    }
   ],
   "source": [
    "x, y = sp.symbols('x y')\n",
    "eq1 = sp.Eq(sp.Rational(1, 3) * x, 2 * y + 4)\n",
    "eq2 = sp.Eq(sp.Rational(1, 3) * x + y, 20)\n",
    "sol = sp.solve([eq1, eq2])\n",
    "sol"
   ]
  },
  {
   "cell_type": "markdown",
   "metadata": {},
   "source": [
    "Vi kan udtrække løsningen for $x$ via:"
   ]
  },
  {
   "cell_type": "code",
   "execution_count": 141,
   "metadata": {},
   "outputs": [
    {
     "data": {
      "text/latex": [
       "$\\displaystyle 44$"
      ],
      "text/plain": [
       "44"
      ]
     },
     "execution_count": 141,
     "metadata": {},
     "output_type": "execute_result"
    }
   ],
   "source": [
    "sol[x]"
   ]
  },
  {
   "cell_type": "markdown",
   "metadata": {},
   "source": [
    "Fx kunne vi evaluere funktionen $f(x,y) = \\sqrt{x^2 + y^2}$ numerisk i løsningspunktet $(x, y) = \\left( 44, \\frac{16}{3} \\right)$:"
   ]
  },
  {
   "cell_type": "code",
   "execution_count": 145,
   "metadata": {},
   "outputs": [
    {
     "data": {
      "text/latex": [
       "$\\displaystyle 44.3220537029191$"
      ],
      "text/plain": [
       "44.3220537029191"
      ]
     },
     "execution_count": 145,
     "metadata": {},
     "output_type": "execute_result"
    }
   ],
   "source": [
    "f = sp.sqrt(x**2 + y**2)\n",
    "f.subs([(x, sol[x]), (y, sol[y])]).evalf()"
   ]
  },
  {
   "cell_type": "markdown",
   "metadata": {},
   "source": [
    "### Løsning af uligheder"
   ]
  },
  {
   "cell_type": "markdown",
   "metadata": {},
   "source": [
    "Med kommandoen `reduce_inequalities` kan SymPy løse simple uligheder af én variabel.\n",
    "Fx har uligheden\n",
    "$$\n",
    "x(1-x) > 0\n",
    "$$\n",
    "løsningen $0 < x < 1$:"
   ]
  },
  {
   "cell_type": "code",
   "execution_count": 152,
   "metadata": {},
   "outputs": [
    {
     "data": {
      "text/latex": [
       "$\\displaystyle 0 < x \\wedge x < 1$"
      ],
      "text/plain": [
       "(0 < x) & (x < 1)"
      ]
     },
     "execution_count": 152,
     "metadata": {},
     "output_type": "execute_result"
    }
   ],
   "source": [
    "sp.reduce_inequalities([x*(1-x) > 0], x)"
   ]
  },
  {
   "cell_type": "markdown",
   "metadata": {},
   "source": [
    "Vi kan også kombinere ligninger og uligheder. Fx kan vi finde løsninger større end $1$ for ligningen:\n",
    "$$\n",
    "x^2 - 3 x = -2, \\quad 1 < x\n",
    "$$"
   ]
  },
  {
   "cell_type": "code",
   "execution_count": 182,
   "metadata": {},
   "outputs": [
    {
     "data": {
      "text/latex": [
       "$\\displaystyle x = 2$"
      ],
      "text/plain": [
       "Eq(x, 2)"
      ]
     },
     "execution_count": 182,
     "metadata": {},
     "output_type": "execute_result"
    }
   ],
   "source": [
    "sp.reduce_inequalities([sp.Eq(x**2 - 3*x, - 2), 1 < x])"
   ]
  },
  {
   "cell_type": "markdown",
   "metadata": {},
   "source": [
    "### Numerisk løsning af ligninger"
   ]
  },
  {
   "cell_type": "markdown",
   "metadata": {},
   "source": [
    "Ikke alle ligninger giver et  brugbart svar, når vi forsøger at løse dem eksakt.\n",
    "Fx er\n",
    "$$\n",
    "\\cos(x) = \\frac{1}{7}\n",
    "$$\n",
    "en transcendental ligning, hvis løsning ikke kan skrives mere eksakt end ovenfor. `solve`-kommandoen giver derfor ikke rigtig et brugbar svar:"
   ]
  },
  {
   "cell_type": "code",
   "execution_count": 203,
   "metadata": {},
   "outputs": [
    {
     "data": {
      "text/plain": [
       "[-acos(1/7) + 2*pi, acos(1/7)]"
      ]
     },
     "execution_count": 203,
     "metadata": {},
     "output_type": "execute_result"
    }
   ],
   "source": [
    "eq = sp.Eq(sp.cos(x), sp.Rational(1, 7))\n",
    "sp.solve(eq)"
   ]
  },
  {
   "cell_type": "markdown",
   "metadata": {},
   "source": [
    "For at blive klogere, kan vi tegne de to funktioner, som skærer hinanden, der hvor løsningen er opfyldt:"
   ]
  },
  {
   "cell_type": "code",
   "execution_count": 16,
   "metadata": {},
   "outputs": [
    {
     "data": {
      "image/png": "[encoded data removed]",
      "text/plain": [
       "<Figure size 432x288 with 1 Axes>"
      ]
     },
     "metadata": {
      "needs_background": "light"
     },
     "output_type": "display_data"
    }
   ],
   "source": [
    "p = sp.plot(sp.cos(x), sp.Rational(1, 7))"
   ]
  },
  {
   "cell_type": "markdown",
   "metadata": {},
   "source": [
    "Hvis vi ønsker at finde værdien af den første positive løsning, kan vi bruge SymPy's `nsolve`-kommando med $x=2$ som et startgæt:"
   ]
  },
  {
   "cell_type": "code",
   "execution_count": 208,
   "metadata": {},
   "outputs": [
    {
     "data": {
      "text/latex": [
       "$\\displaystyle 1.42744875788953$"
      ],
      "text/plain": [
       "1.42744875788953"
      ]
     },
     "execution_count": 208,
     "metadata": {},
     "output_type": "execute_result"
    }
   ],
   "source": [
    "sp.nsolve(eq, x, 2)"
   ]
  },
  {
   "cell_type": "markdown",
   "metadata": {},
   "source": [
    "**Bemærk:**\n",
    "\n",
    "Den numeriske løsningsmetode er ret sensitiv til vores startgæt. Fx giver et startgæt på $x=0$:"
   ]
  },
  {
   "cell_type": "code",
   "execution_count": 209,
   "metadata": {},
   "outputs": [
    {
     "data": {
      "text/latex": [
       "$\\displaystyle -6715.29764461709$"
      ],
      "text/plain": [
       "-6715.29764461709"
      ]
     },
     "execution_count": 209,
     "metadata": {},
     "output_type": "execute_result"
    }
   ],
   "source": [
    "sp.nsolve(eq, x, 0)"
   ]
  },
  {
   "cell_type": "markdown",
   "metadata": {},
   "source": [
    "**Et andet eksempel**\n",
    "\n",
    "Et andet eksempel kunne være ligningen:\n",
    "$$\n",
    "x^4 + 3x^3 + x - 40 = 0\n",
    "$$\n",
    "Igen kan vi tegne grafen for funktionen for ca. at finde nulpunkterne."
   ]
  },
  {
   "cell_type": "code",
   "execution_count": 17,
   "metadata": {},
   "outputs": [
    {
     "data": {
      "image/png": "[encoded data removed]",
      "text/plain": [
       "<Figure size 432x288 with 1 Axes>"
      ]
     },
     "metadata": {
      "needs_background": "light"
     },
     "output_type": "display_data"
    }
   ],
   "source": [
    "eq = x**4 + 3*x**3 + x - 40\n",
    "p = sp.plot(eq, ylim=(-100, 100))"
   ]
  },
  {
   "cell_type": "markdown",
   "metadata": {},
   "source": [
    "Gode startgæt kunne derfor være $x \\approx -3.5$ og $x\\approx 2$:"
   ]
  },
  {
   "cell_type": "code",
   "execution_count": 215,
   "metadata": {},
   "outputs": [
    {
     "data": {
      "text/plain": [
       "(-3.79889680321069, 1.97048844688843)"
      ]
     },
     "execution_count": 215,
     "metadata": {},
     "output_type": "execute_result"
    }
   ],
   "source": [
    "sp.nsolve(eq, x, -3.5), sp.nsolve(eq, x, 2)"
   ]
  },
  {
   "cell_type": "markdown",
   "metadata": {},
   "source": [
    "Uden et godt startgæt, kan vi ikke finde en løsning:"
   ]
  },
  {
   "cell_type": "code",
   "execution_count": null,
   "metadata": {},
   "outputs": [],
   "source": [
    "# Denne kodelinjer fejler, hvis du kører den\n",
    "sp.nsolve(eq, x, 0)"
   ]
  },
  {
   "cell_type": "markdown",
   "metadata": {},
   "source": [
    "## 7. Grænseværdier"
   ]
  },
  {
   "cell_type": "markdown",
   "metadata": {},
   "source": [
    "### Grænseværdi for endeligt tal"
   ]
  },
  {
   "cell_type": "markdown",
   "metadata": {},
   "source": [
    "Betragt funktionen\n",
    "$$\n",
    "f(x) = \\frac{1}{x}\n",
    "$$\n",
    "Vi kan opskrive funktionen med SymPy og tegne dens graf:"
   ]
  },
  {
   "cell_type": "code",
   "execution_count": 47,
   "metadata": {},
   "outputs": [
    {
     "data": {
      "image/png": "[encoded data removed]",
      "text/plain": [
       "<Figure size 432x288 with 1 Axes>"
      ]
     },
     "metadata": {
      "needs_background": "light"
     },
     "output_type": "display_data"
    }
   ],
   "source": [
    "f = 1/x\n",
    "p = sp.plot(f, (x, -10, 10), ylim=(-5, 5))"
   ]
  },
  {
   "cell_type": "markdown",
   "metadata": {},
   "source": [
    "Med SymPy kan vi bestemme grænseværdien af $f(x)$ for $x$ gående imod $2$.\n",
    "\n",
    "Da $f(x)$ er kontinuert for $x>0$ bør resultatet være:\n",
    "$$\n",
    "\\lim_{x \\to 2} \\frac{1}{x} = 1/2\n",
    "$$"
   ]
  },
  {
   "cell_type": "code",
   "execution_count": 36,
   "metadata": {},
   "outputs": [
    {
     "data": {
      "text/latex": [
       "$\\displaystyle \\frac{1}{2}$"
      ],
      "text/plain": [
       "1/2"
      ]
     },
     "execution_count": 36,
     "metadata": {},
     "output_type": "execute_result"
    }
   ],
   "source": [
    "f = 1/x\n",
    "sp.limit(f, x, 2)"
   ]
  },
  {
   "cell_type": "markdown",
   "metadata": {},
   "source": [
    "### Højre/Venstre grænseværdier"
   ]
  },
  {
   "cell_type": "markdown",
   "metadata": {},
   "source": [
    "SymPy kan ikke automatisk spotte, når en grænseværdi ikke er veldefineret, som det er tilfældet for $1/x$ når $x \\to 0$. I dette tilfælde er grænseværdien fra højre forskellig fra grænseværdien fra venstre. Vi kan dog eksplicit angive, at vi ønsker den ene frem for den anden grænseværdi:"
   ]
  },
  {
   "cell_type": "code",
   "execution_count": 40,
   "metadata": {},
   "outputs": [
    {
     "data": {
      "text/latex": [
       "$\\displaystyle \\infty$"
      ],
      "text/plain": [
       "oo"
      ]
     },
     "execution_count": 40,
     "metadata": {},
     "output_type": "execute_result"
    }
   ],
   "source": [
    "# Generel grænseværdi er i virkeligheden ikke\n",
    "# veldefineret, men SymPy giver et bud alligevel:\n",
    "sp.limit(f, x, 0)"
   ]
  },
  {
   "cell_type": "code",
   "execution_count": 41,
   "metadata": {},
   "outputs": [
    {
     "data": {
      "text/latex": [
       "$\\displaystyle \\infty$"
      ],
      "text/plain": [
       "oo"
      ]
     },
     "execution_count": 41,
     "metadata": {},
     "output_type": "execute_result"
    }
   ],
   "source": [
    "sp.limit(f, x, 0, dir='+') # Grænseværdi fra højre"
   ]
  },
  {
   "cell_type": "code",
   "execution_count": 42,
   "metadata": {},
   "outputs": [
    {
     "data": {
      "text/latex": [
       "$\\displaystyle -\\infty$"
      ],
      "text/plain": [
       "-oo"
      ]
     },
     "execution_count": 42,
     "metadata": {},
     "output_type": "execute_result"
    }
   ],
   "source": [
    "sp.limit(f, x, 0, dir='-') # Grænseværdi fra venstre"
   ]
  },
  {
   "cell_type": "markdown",
   "metadata": {},
   "source": [
    "### Uendelige grænseværdier"
   ]
  },
  {
   "cell_type": "markdown",
   "metadata": {},
   "source": [
    "Uendelig kan skrives som `oo` (to o'er) i SymPy. Dette er simpelthen bare fordi, at det er nemt at skrive og ligner tegnet $\\infty$."
   ]
  },
  {
   "cell_type": "code",
   "execution_count": 44,
   "metadata": {},
   "outputs": [
    {
     "data": {
      "text/latex": [
       "$\\displaystyle \\infty$"
      ],
      "text/plain": [
       "oo"
      ]
     },
     "execution_count": 44,
     "metadata": {},
     "output_type": "execute_result"
    }
   ],
   "source": [
    "sp.oo"
   ]
  },
  {
   "cell_type": "markdown",
   "metadata": {},
   "source": [
    "Vi kan også bestemme grænseværdier for $x \\to \\infty$ eller $x \\to - \\infty$. Fx:"
   ]
  },
  {
   "cell_type": "code",
   "execution_count": 48,
   "metadata": {},
   "outputs": [
    {
     "data": {
      "text/latex": [
       "$\\displaystyle 0$"
      ],
      "text/plain": [
       "0"
      ]
     },
     "execution_count": 48,
     "metadata": {},
     "output_type": "execute_result"
    }
   ],
   "source": [
    "sp.limit(1/x, x, sp.oo)"
   ]
  },
  {
   "cell_type": "markdown",
   "metadata": {},
   "source": [
    "## 8. Differentialregning"
   ]
  },
  {
   "cell_type": "markdown",
   "metadata": {},
   "source": [
    "### Differentiering af en funktion af én variabel"
   ]
  },
  {
   "cell_type": "markdown",
   "metadata": {},
   "source": [
    "Vi kan differentiere en funktion med SymPy's `diff`-kommando. Fx er\n",
    "$$\n",
    "\\frac{d}{dx} \\left( \\frac{1}{x} \\right) = -\\frac{1}{x^2}\n",
    "$$"
   ]
  },
  {
   "cell_type": "code",
   "execution_count": 51,
   "metadata": {},
   "outputs": [
    {
     "data": {
      "text/latex": [
       "$\\displaystyle - \\frac{1}{x^{2}}$"
      ],
      "text/plain": [
       "-1/x**2"
      ]
     },
     "execution_count": 51,
     "metadata": {},
     "output_type": "execute_result"
    }
   ],
   "source": [
    "sp.diff(1/x, x)"
   ]
  },
  {
   "cell_type": "markdown",
   "metadata": {},
   "source": [
    "**Højereordensafledede**\n",
    "\n",
    "Vi kan bestemme den afledede til vilkårlig orden ved at angive ordnen som et tal.\n",
    "\n",
    "Fx er den andenordensafledede:\n",
    "$$\n",
    "\\frac{d^2}{dx^2} \\left( \\frac{1}{x} \\right) = \\frac{2}{x^3}\n",
    "$$"
   ]
  },
  {
   "cell_type": "code",
   "execution_count": 53,
   "metadata": {},
   "outputs": [
    {
     "data": {
      "text/latex": [
       "$\\displaystyle \\frac{2}{x^{3}}$"
      ],
      "text/plain": [
       "2/x**3"
      ]
     },
     "execution_count": 53,
     "metadata": {},
     "output_type": "execute_result"
    }
   ],
   "source": [
    "sp.diff(1/x, x, 2)"
   ]
  },
  {
   "cell_type": "markdown",
   "metadata": {},
   "source": [
    "### Differentiering af en funktion af flere variable"
   ]
  },
  {
   "cell_type": "markdown",
   "metadata": {},
   "source": [
    "Vi kan bruge fuldstændig samme syntaks (programmatisk grammatik) som ovenfor til at bestemme partielle afledede. \n",
    "Som et eksempel har\n",
    "$$\n",
    "h(x, y) = y x^2 + x \\sin(y)\n",
    "$$\n",
    "den partielt afledede mht. $x$:\n",
    "$$\n",
    "\\frac{\\partial}{\\partial x} h(x,y) = 2xy  + \\sin(y)\n",
    "$$"
   ]
  },
  {
   "cell_type": "code",
   "execution_count": 62,
   "metadata": {},
   "outputs": [
    {
     "data": {
      "text/latex": [
       "$\\displaystyle 2 x y + \\sin{\\left(y \\right)}$"
      ],
      "text/plain": [
       "2*x*y + sin(y)"
      ]
     },
     "execution_count": 62,
     "metadata": {},
     "output_type": "execute_result"
    }
   ],
   "source": [
    "x, y = sp.symbols('x y')\n",
    "h = y*x**2 + x * sp.sin(y)\n",
    "sp.diff(h, x)"
   ]
  },
  {
   "cell_type": "markdown",
   "metadata": {},
   "source": [
    "**Blandede partielt afledede**"
   ]
  },
  {
   "cell_type": "markdown",
   "metadata": {},
   "source": [
    "Vi kan også bestemme partielt afledede med blandede variable. Fx er\n",
    "$$\n",
    "\\frac{\\partial^3}{\\partial y \\partial x^2} h(x,y) = 2\n",
    "$$"
   ]
  },
  {
   "cell_type": "code",
   "execution_count": 64,
   "metadata": {},
   "outputs": [
    {
     "data": {
      "text/latex": [
       "$\\displaystyle 2$"
      ],
      "text/plain": [
       "2"
      ]
     },
     "execution_count": 64,
     "metadata": {},
     "output_type": "execute_result"
    }
   ],
   "source": [
    "sp.diff(h, x, x, y)"
   ]
  },
  {
   "cell_type": "markdown",
   "metadata": {},
   "source": [
    "## 9. Integralregning"
   ]
  },
  {
   "cell_type": "markdown",
   "metadata": {},
   "source": [
    "### Ubestemt Integration"
   ]
  },
  {
   "cell_type": "markdown",
   "metadata": {},
   "source": [
    "Vi kan bestemme stamfunktionen til en funktion med `integrate`-kommandoen. Fx er:\n",
    "$$\n",
    "\\int \\frac{1}{x} \\, dx = \\ln(x)\n",
    "$$"
   ]
  },
  {
   "cell_type": "code",
   "execution_count": 70,
   "metadata": {},
   "outputs": [
    {
     "data": {
      "text/latex": [
       "$\\displaystyle \\log{\\left(x \\right)}$"
      ],
      "text/plain": [
       "log(x)"
      ]
     },
     "execution_count": 70,
     "metadata": {},
     "output_type": "execute_result"
    }
   ],
   "source": [
    "sp.integrate(1/x)"
   ]
  },
  {
   "cell_type": "markdown",
   "metadata": {},
   "source": [
    "### Bestemt Integration"
   ]
  },
  {
   "cell_type": "markdown",
   "metadata": {},
   "source": [
    "For at evaluere et bestemt integrale, kan vi angive variablen og integrationsgrænserne i en tuple. Fx er\n",
    "$$\n",
    "\\int_{0}^3 x^2 \\, dx = 9\n",
    "$$"
   ]
  },
  {
   "cell_type": "code",
   "execution_count": 76,
   "metadata": {},
   "outputs": [
    {
     "data": {
      "text/latex": [
       "$\\displaystyle 9$"
      ],
      "text/plain": [
       "9"
      ]
     },
     "execution_count": 76,
     "metadata": {},
     "output_type": "execute_result"
    }
   ],
   "source": [
    "sp.integrate(x**2, (x, 0, 3))"
   ]
  },
  {
   "cell_type": "markdown",
   "metadata": {},
   "source": [
    "#### Uendelige integraler"
   ]
  },
  {
   "cell_type": "markdown",
   "metadata": {},
   "source": [
    "SymPy kan også bestemme integraler, hvor grænserne går mod $\\pm \\infty$. Fx er\n",
    "$$\n",
    "\\int_{0}^{\\infty} e^{-x} \\, dx = 1\n",
    "$$"
   ]
  },
  {
   "cell_type": "code",
   "execution_count": 77,
   "metadata": {},
   "outputs": [
    {
     "data": {
      "text/latex": [
       "$\\displaystyle 1$"
      ],
      "text/plain": [
       "1"
      ]
     },
     "execution_count": 77,
     "metadata": {},
     "output_type": "execute_result"
    }
   ],
   "source": [
    "sp.integrate(sp.exp(-x), (x, 0, sp.oo))"
   ]
  },
  {
   "cell_type": "markdown",
   "metadata": {},
   "source": [
    "### Integration over flere variable"
   ]
  },
  {
   "cell_type": "markdown",
   "metadata": {},
   "source": [
    "Vi kan også bestemme integraler over flere variable. Fx er\n",
    "$$\n",
    "\\int_{-\\infty}^{\\infty} \\int_{-\\infty}^{\\infty} e^{-x^2-y^2} \\, dx \\, dy = \\pi\n",
    "$$"
   ]
  },
  {
   "cell_type": "code",
   "execution_count": 78,
   "metadata": {},
   "outputs": [
    {
     "data": {
      "text/latex": [
       "$\\displaystyle \\pi$"
      ],
      "text/plain": [
       "pi"
      ]
     },
     "execution_count": 78,
     "metadata": {},
     "output_type": "execute_result"
    }
   ],
   "source": [
    "sp.integrate(sp.exp(-x**2-y**2), (x, -sp.oo, sp.oo), (y, -sp.oo, sp.oo))"
   ]
  },
  {
   "cell_type": "markdown",
   "metadata": {},
   "source": [
    "## 10. Lineær Algebra"
   ]
  },
  {
   "cell_type": "markdown",
   "metadata": {},
   "source": [
    "#### Matricer"
   ]
  },
  {
   "cell_type": "markdown",
   "metadata": {},
   "source": [
    "Vi kan opskrive matricer i SymPy med `Matrix`-kommandoen. Fx\n",
    "$$\n",
    "A =\n",
    "\\left[\\begin{matrix}1 & 2\\\\3 & 4\\\\5 & 6\\end{matrix}\\right]\n",
    "$$\n",
    "Som input angiver vi en liste med en liste indeni"
   ]
  },
  {
   "cell_type": "code",
   "execution_count": 96,
   "metadata": {},
   "outputs": [
    {
     "data": {
      "text/latex": [
       "$\\displaystyle \\left[\\begin{matrix}1 & 2\\\\3 & 4\\\\5 & 6\\end{matrix}\\right]$"
      ],
      "text/plain": [
       "Matrix([\n",
       "[1, 2],\n",
       "[3, 4],\n",
       "[5, 6]])"
      ]
     },
     "execution_count": 96,
     "metadata": {},
     "output_type": "execute_result"
    }
   ],
   "source": [
    "A = sp.Matrix([\n",
    "    [1, 2],\n",
    "    [3, 4],\n",
    "    [5, 6]])\n",
    "A"
   ]
  },
  {
   "cell_type": "markdown",
   "metadata": {},
   "source": [
    "En enkelt liste vil blive tolket som en kolonnevektor. Fx kan vi opskrive\n",
    "$$\n",
    "v = \\left[\\begin{matrix}0\\\\1\\\\0\\end{matrix}\\right]\n",
    "$$\n",
    "ved"
   ]
  },
  {
   "cell_type": "code",
   "execution_count": 99,
   "metadata": {},
   "outputs": [
    {
     "data": {
      "text/latex": [
       "$\\displaystyle \\left[\\begin{matrix}0\\\\1\\\\0\\end{matrix}\\right]$"
      ],
      "text/plain": [
       "Matrix([\n",
       "[0],\n",
       "[1],\n",
       "[0]])"
      ]
     },
     "execution_count": 99,
     "metadata": {},
     "output_type": "execute_result"
    }
   ],
   "source": [
    "v = sp.Matrix([0, 1, 0])\n",
    "v"
   ]
  },
  {
   "cell_type": "markdown",
   "metadata": {},
   "source": [
    "### Matrixoperationer"
   ]
  },
  {
   "cell_type": "markdown",
   "metadata": {},
   "source": [
    "**Matrixmultiplikation**\n",
    "\n",
    "Multiplikation mellem matricer klares nemt med `*`-tegnet:"
   ]
  },
  {
   "cell_type": "code",
   "execution_count": 100,
   "metadata": {},
   "outputs": [
    {
     "data": {
      "text/latex": [
       "$\\displaystyle \\left[\\begin{matrix}3 & 4\\end{matrix}\\right]$"
      ],
      "text/plain": [
       "Matrix([[3, 4]])"
      ]
     },
     "execution_count": 100,
     "metadata": {},
     "output_type": "execute_result"
    }
   ],
   "source": [
    "v.T*A"
   ]
  },
  {
   "cell_type": "markdown",
   "metadata": {},
   "source": [
    "**Skalering og addition**\n",
    "\n",
    "Skalering og addition fungerer, som man ville forvente:"
   ]
  },
  {
   "cell_type": "code",
   "execution_count": 110,
   "metadata": {},
   "outputs": [
    {
     "data": {
      "text/latex": [
       "$\\displaystyle \\left[\\begin{matrix}3 & 6\\\\9 & 12\\\\15 & 18\\end{matrix}\\right]$"
      ],
      "text/plain": [
       "Matrix([\n",
       "[ 3,  6],\n",
       "[ 9, 12],\n",
       "[15, 18]])"
      ]
     },
     "execution_count": 110,
     "metadata": {},
     "output_type": "execute_result"
    }
   ],
   "source": [
    "A + 2*A"
   ]
  },
  {
   "cell_type": "markdown",
   "metadata": {},
   "source": [
    "### Matrixinversion"
   ]
  },
  {
   "cell_type": "markdown",
   "metadata": {},
   "source": [
    "Opløft en matrice i $-1$ for at bestemme den inverse:"
   ]
  },
  {
   "cell_type": "code",
   "execution_count": 112,
   "metadata": {},
   "outputs": [
    {
     "data": {
      "text/latex": [
       "$\\displaystyle \\left[\\begin{matrix}-2 & 1\\\\\\frac{3}{2} & - \\frac{1}{2}\\end{matrix}\\right]$"
      ],
      "text/plain": [
       "Matrix([\n",
       "[ -2,    1],\n",
       "[3/2, -1/2]])"
      ]
     },
     "execution_count": 112,
     "metadata": {},
     "output_type": "execute_result"
    }
   ],
   "source": [
    "A = sp.Matrix([\n",
    "    [1, 2],\n",
    "    [3, 4]])\n",
    "A**(-1)"
   ]
  },
  {
   "cell_type": "markdown",
   "metadata": {},
   "source": [
    "Vi kan tjekke, at ovenstående matrix faktisk er den inverse til $A$:"
   ]
  },
  {
   "cell_type": "code",
   "execution_count": 117,
   "metadata": {},
   "outputs": [
    {
     "data": {
      "text/latex": [
       "$\\displaystyle \\left[\\begin{matrix}1 & 0\\\\0 & 1\\end{matrix}\\right]$"
      ],
      "text/plain": [
       "Matrix([\n",
       "[1, 0],\n",
       "[0, 1]])"
      ]
     },
     "execution_count": 117,
     "metadata": {},
     "output_type": "execute_result"
    }
   ],
   "source": [
    "A * A**(-1)"
   ]
  },
  {
   "cell_type": "markdown",
   "metadata": {},
   "source": [
    "### Matrixtransponering"
   ]
  },
  {
   "cell_type": "markdown",
   "metadata": {},
   "source": [
    "Transponér en matrix ved at skrive `.T` efter matricen:"
   ]
  },
  {
   "cell_type": "code",
   "execution_count": 121,
   "metadata": {},
   "outputs": [
    {
     "data": {
      "text/latex": [
       "$\\displaystyle \\left[\\begin{matrix}1 & 2\\\\3 & 4\\end{matrix}\\right]$"
      ],
      "text/plain": [
       "Matrix([\n",
       "[1, 2],\n",
       "[3, 4]])"
      ]
     },
     "metadata": {},
     "output_type": "display_data"
    },
    {
     "data": {
      "text/latex": [
       "$\\displaystyle \\left[\\begin{matrix}1 & 3\\\\2 & 4\\end{matrix}\\right]$"
      ],
      "text/plain": [
       "Matrix([\n",
       "[1, 3],\n",
       "[2, 4]])"
      ]
     },
     "metadata": {},
     "output_type": "display_data"
    }
   ],
   "source": [
    "display(A, A.T)"
   ]
  },
  {
   "cell_type": "markdown",
   "metadata": {},
   "source": [
    "### Kanoniske matricer"
   ]
  },
  {
   "cell_type": "markdown",
   "metadata": {},
   "source": [
    "SymPy har indbyggede funktioner til at konstruere en række hyppigt brugte matricer."
   ]
  },
  {
   "cell_type": "markdown",
   "metadata": {},
   "source": [
    "**Identitetsmatricen**\n",
    "\n",
    "Identitetsmatricen fås med `eye`-kommandoen:"
   ]
  },
  {
   "cell_type": "code",
   "execution_count": 124,
   "metadata": {},
   "outputs": [
    {
     "data": {
      "text/latex": [
       "$\\displaystyle \\left[\\begin{matrix}1 & 0 & 0 & 0\\\\0 & 1 & 0 & 0\\\\0 & 0 & 1 & 0\\\\0 & 0 & 0 & 1\\end{matrix}\\right]$"
      ],
      "text/plain": [
       "Matrix([\n",
       "[1, 0, 0, 0],\n",
       "[0, 1, 0, 0],\n",
       "[0, 0, 1, 0],\n",
       "[0, 0, 0, 1]])"
      ]
     },
     "execution_count": 124,
     "metadata": {},
     "output_type": "execute_result"
    }
   ],
   "source": [
    "sp.eye(4)"
   ]
  },
  {
   "cell_type": "markdown",
   "metadata": {},
   "source": [
    "**Matricer med 0 og 1**\n",
    "\n",
    "`zeros` og `ones` giver matricer, som er henholdsvis 0 og 1 overalt:"
   ]
  },
  {
   "cell_type": "code",
   "execution_count": 127,
   "metadata": {},
   "outputs": [
    {
     "data": {
      "text/latex": [
       "$\\displaystyle \\left[\\begin{matrix}0 & 0 & 0\\\\0 & 0 & 0\\end{matrix}\\right]$"
      ],
      "text/plain": [
       "Matrix([\n",
       "[0, 0, 0],\n",
       "[0, 0, 0]])"
      ]
     },
     "execution_count": 127,
     "metadata": {},
     "output_type": "execute_result"
    }
   ],
   "source": [
    "sp.zeros(2, 3)"
   ]
  },
  {
   "cell_type": "code",
   "execution_count": 128,
   "metadata": {},
   "outputs": [
    {
     "data": {
      "text/latex": [
       "$\\displaystyle \\left[\\begin{matrix}1 & 1 & 1\\\\1 & 1 & 1\\end{matrix}\\right]$"
      ],
      "text/plain": [
       "Matrix([\n",
       "[1, 1, 1],\n",
       "[1, 1, 1]])"
      ]
     },
     "execution_count": 128,
     "metadata": {},
     "output_type": "execute_result"
    }
   ],
   "source": [
    "sp.ones(2, 3)"
   ]
  },
  {
   "cell_type": "markdown",
   "metadata": {},
   "source": [
    "### Determinant"
   ]
  },
  {
   "cell_type": "markdown",
   "metadata": {},
   "source": [
    "Determinanten bestemmes ved at kalde metoden `.det()` på en matrice:"
   ]
  },
  {
   "cell_type": "code",
   "execution_count": 131,
   "metadata": {},
   "outputs": [
    {
     "data": {
      "text/latex": [
       "$\\displaystyle -2$"
      ],
      "text/plain": [
       "-2"
      ]
     },
     "execution_count": 131,
     "metadata": {},
     "output_type": "execute_result"
    }
   ],
   "source": [
    "A.det()"
   ]
  },
  {
   "cell_type": "markdown",
   "metadata": {},
   "source": [
    "### Egenvektorer og egenværdier"
   ]
  },
  {
   "cell_type": "markdown",
   "metadata": {},
   "source": [
    "Kommandoen `eigenvals` bestemmer egenværdierne af en matrice. Egenværdierne angives som `(egenværdi: algebraisk multiplicitet)`:"
   ]
  },
  {
   "cell_type": "code",
   "execution_count": 136,
   "metadata": {},
   "outputs": [
    {
     "data": {
      "text/plain": [
       "{-sqrt(5): 1, sqrt(5): 1}"
      ]
     },
     "execution_count": 136,
     "metadata": {},
     "output_type": "execute_result"
    }
   ],
   "source": [
    "A = sp.Matrix([[1, 2], [2, -1]])\n",
    "A.eigenvals()"
   ]
  },
  {
   "cell_type": "markdown",
   "metadata": {},
   "source": [
    "Kommandoen `eigenvects` bestemmer egenvektorer med tilhørende egenværdier. Resultatet angives som `(egenværdi: algebraisk multiplicitet, [egenvektorer])`:"
   ]
  },
  {
   "cell_type": "code",
   "execution_count": 141,
   "metadata": {},
   "outputs": [
    {
     "data": {
      "text/plain": [
       "[(-sqrt(5),\n",
       "  1,\n",
       "  [Matrix([\n",
       "   [1/2 - sqrt(5)/2],\n",
       "   [              1]])]),\n",
       " (sqrt(5),\n",
       "  1,\n",
       "  [Matrix([\n",
       "   [1/2 + sqrt(5)/2],\n",
       "   [              1]])])]"
      ]
     },
     "execution_count": 141,
     "metadata": {},
     "output_type": "execute_result"
    }
   ],
   "source": [
    "A.eigenvects()"
   ]
  },
  {
   "cell_type": "markdown",
   "metadata": {},
   "source": [
    "Fx er den første egenvektor $v_1 = \\left[\\begin{matrix} \\frac{1}{2} - \\frac{\\sqrt{5}}{2}\\\\1\\end{matrix}\\right]$ med tilhørende egenværdi $\\lambda_1 = -\\sqrt{5}$. Vi kan tjekke, at det stemmer:"
   ]
  },
  {
   "cell_type": "code",
   "execution_count": 171,
   "metadata": {},
   "outputs": [
    {
     "data": {
      "text/latex": [
       "$\\displaystyle \\left[\\begin{matrix}0\\\\0\\end{matrix}\\right]$"
      ],
      "text/plain": [
       "Matrix([\n",
       "[0],\n",
       "[0]])"
      ]
     },
     "execution_count": 171,
     "metadata": {},
     "output_type": "execute_result"
    }
   ],
   "source": [
    "lamb1 = A.eigenvects()[0][0] # Extract first eigenvalue\n",
    "v1 = A.eigenvects()[0][2][0] # Extract first eigenvector\n",
    "sp.simplify(A*v1 - lamb1*v1)"
   ]
  },
  {
   "cell_type": "markdown",
   "metadata": {},
   "source": [
    "## 11. Differentialligninger"
   ]
  },
  {
   "cell_type": "markdown",
   "metadata": {},
   "source": [
    "Lad os ryde vores variable og importere de nødvendige pakker igen:"
   ]
  },
  {
   "cell_type": "code",
   "execution_count": null,
   "metadata": {},
   "outputs": [],
   "source": [
    "%reset -f\n",
    "import sympy as sp\n",
    "import numpy as np\n",
    "from IPython.display import display"
   ]
  },
  {
   "cell_type": "markdown",
   "metadata": {},
   "source": [
    "### Løsning af differentialligninger med SymPy"
   ]
  },
  {
   "cell_type": "markdown",
   "metadata": {},
   "source": [
    "SymPy kan løse differentialligninger med `dsolve`-kommandoen. Fx kan vi løse differentialligningen:\n",
    "$$\n",
    "\\frac{d}{dx} f(x) = -k f(x).\n",
    "$$\n",
    "Løsningen er:\n",
    "$$\n",
    "f(x) = C_1 e^{-kx},\n",
    "$$\n",
    "hvor $C_1$ er en konstant, som først kan fastsættes, når vi har en rand/initialbetingelse.\n",
    "\n",
    "Udefinerede funktioner som $f(x)$ ovenfor skal angives med argumentet `cls = sp.Function`:"
   ]
  },
  {
   "cell_type": "code",
   "execution_count": null,
   "metadata": {},
   "outputs": [],
   "source": [
    "x, k = sp.symbols('x k')\n",
    "f = sp.symbols('f', cls=sp.Function)"
   ]
  },
  {
   "cell_type": "markdown",
   "metadata": {},
   "source": [
    "Dermed kan vi opskrive og løse differentialligningen:"
   ]
  },
  {
   "cell_type": "code",
   "execution_count": null,
   "metadata": {},
   "outputs": [
    {
     "data": {
      "text/latex": [
       "$\\displaystyle \\frac{d}{d x} f{\\left(x \\right)} = - k f{\\left(x \\right)}$"
      ],
      "text/plain": [
       "Eq(Derivative(f(x), x), -k*f(x))"
      ]
     },
     "metadata": {},
     "output_type": "display_data"
    },
    {
     "data": {
      "text/latex": [
       "$\\displaystyle f{\\left(x \\right)} = C_{1} e^{- k x}$"
      ],
      "text/plain": [
       "Eq(f(x), C1*exp(-k*x))"
      ]
     },
     "metadata": {},
     "output_type": "display_data"
    }
   ],
   "source": [
    "eq = sp.Eq(sp.diff(f(x), x), -k * f(x))\n",
    "display(eq)\n",
    "sp.dsolve(eq)"
   ]
  },
  {
   "cell_type": "markdown",
   "metadata": {},
   "source": [
    "**Bemærk:**\n",
    "1. $f(x)$ skal skrives med sit argument alle steder i differentialligningen\n",
    "2. den afledede opskrives med SymPy's `diff`-metode\n",
    "3. Output'et fra `dsolve` er en ligning. Højresiden af ligningen kan udtrækkes som `.rhs`:"
   ]
  },
  {
   "cell_type": "code",
   "execution_count": null,
   "metadata": {},
   "outputs": [
    {
     "data": {
      "text/latex": [
       "$\\displaystyle C_{1} e^{- k x}$"
      ],
      "text/plain": [
       "C1*exp(-k*x)"
      ]
     },
     "metadata": {},
     "output_type": "display_data"
    }
   ],
   "source": [
    "dsol = sp.dsolve(eq)\n",
    "dsol.rhs"
   ]
  },
  {
   "cell_type": "markdown",
   "metadata": {},
   "source": [
    "### Differentialligninger af højere orden"
   ]
  },
  {
   "cell_type": "markdown",
   "metadata": {},
   "source": [
    "Højereordens-afledede klares som før ved at angive ordnenen som et argument til `diff`-kommandoen.\n",
    "\n",
    "Fx for differentialligningen:\n",
    "$$\n",
    "\\frac{d^{2}}{d t^{2}} x{\\left(t \\right)} = - k x{\\left(t \\right)}\n",
    "$$"
   ]
  },
  {
   "cell_type": "code",
   "execution_count": null,
   "metadata": {},
   "outputs": [
    {
     "data": {
      "text/latex": [
       "$\\displaystyle \\frac{d^{2}}{d t^{2}} x{\\left(t \\right)} = - k x{\\left(t \\right)}$"
      ],
      "text/plain": [
       "Eq(Derivative(x(t), (t, 2)), -k*x(t))"
      ]
     },
     "metadata": {},
     "output_type": "display_data"
    },
    {
     "data": {
      "text/latex": [
       "$\\displaystyle x{\\left(t \\right)} = C_{1} e^{- t \\sqrt{- k}} + C_{2} e^{t \\sqrt{- k}}$"
      ],
      "text/plain": [
       "Eq(x(t), C1*exp(-t*sqrt(-k)) + C2*exp(t*sqrt(-k)))"
      ]
     },
     "metadata": {},
     "output_type": "display_data"
    }
   ],
   "source": [
    "x = sp.symbols('x', cls=sp.Function)\n",
    "t, k = sp.symbols('t, k')\n",
    "\n",
    "eq = sp.Eq(sp.diff(x(t), t, 2), -k * x(t))\n",
    "display(eq)\n",
    "sp.dsolve(eq)"
   ]
  },
  {
   "cell_type": "markdown",
   "metadata": {},
   "source": [
    "### Begyndelses- eller randbetingelser"
   ]
  },
  {
   "cell_type": "markdown",
   "metadata": {},
   "source": [
    "Begyndelsesbetingelser angives som argumentet `ics` til `dsolve`-kommandoen.\n",
    "\n",
    "Fx kunne vi finde løsningen med begyndelsesbetingelser:\n",
    "$$\n",
    "x(t=0) = 4, \\quad\n",
    "\\frac{dx}{dt} (t=0) = 0\n",
    "$$"
   ]
  },
  {
   "cell_type": "code",
   "execution_count": null,
   "metadata": {},
   "outputs": [
    {
     "data": {
      "text/latex": [
       "$\\displaystyle x{\\left(t \\right)} = 2 e^{t \\sqrt{- k}} + 2 e^{- t \\sqrt{- k}}$"
      ],
      "text/plain": [
       "Eq(x(t), 2*exp(t*sqrt(-k)) + 2*exp(-t*sqrt(-k)))"
      ]
     },
     "metadata": {},
     "output_type": "display_data"
    }
   ],
   "source": [
    "ics = {x(0): 4, x(t).diff(t).subs(t, 0): 0}\n",
    "sp.dsolve(eq, ics=ics)"
   ]
  },
  {
   "cell_type": "markdown",
   "metadata": {},
   "source": [
    "Bemærk, at vi bruger `subs`-metoden for at sætte $t=0$ i begyndelsesbetingelsen for den afledede."
   ]
  }
 ],
 "metadata": {
  "kernelspec": {
   "display_name": "base",
   "language": "python",
   "name": "python3"
  },
  "language_info": {
   "codemirror_mode": {
    "name": "ipython",
    "version": 3
   },
   "file_extension": ".py",
   "mimetype": "text/x-python",
   "name": "python",
   "nbconvert_exporter": "python",
   "pygments_lexer": "ipython3",
   "version": "3.9.12"
  },
  "orig_nbformat": 4
 },
 "nbformat": 4,
 "nbformat_minor": 2
}
